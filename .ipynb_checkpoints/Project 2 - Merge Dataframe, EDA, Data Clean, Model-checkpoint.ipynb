{
 "cells": [
  {
   "cell_type": "markdown",
   "metadata": {},
   "source": [
    "## 1. Merge in Dataframes to create complete stock dataframe"
   ]
  },
  {
   "cell_type": "code",
   "execution_count": 1,
   "metadata": {},
   "outputs": [],
   "source": [
    "import pandas as pd\n",
    "#merge dataframes to create full set\n",
    "\n",
    "metrics_df1 = pd.read_pickle('Rev_Prof_OE_data.pkl')\n",
    "metrics_df2 = pd.read_pickle('valuation_metrics_data.pkl')\n",
    "metrics_df3 = pd.read_pickle('valuation_metrics_2.pkl')\n",
    "\n",
    "stocks_df = pd.merge(metrics_df1, metrics_df2, on = 'Ticker', how = 'outer')\n",
    "\n",
    "stocks_df = pd.merge(stocks_df, metrics_df3, on = 'Ticker')"
   ]
  },
  {
   "cell_type": "code",
   "execution_count": 2,
   "metadata": {},
   "outputs": [],
   "source": [
    "'''\n",
    "drop columns that are:\n",
    "1. used to calculate target variable\n",
    "2. duplicates of another column (EPS, EPS2)\n",
    "3. columns with 95% + NaN values\n",
    "'''\n",
    "stocks_df.columns\n",
    "\n",
    "stocks_df = stocks_df.drop(columns = ['Ticker: ticker, ROA', 'Dividends', 'EPS'], axis = 1)"
   ]
  },
  {
   "cell_type": "code",
   "execution_count": 3,
   "metadata": {},
   "outputs": [
    {
     "name": "stdout",
     "output_type": "stream",
     "text": [
      "<class 'pandas.core.frame.DataFrame'>\n",
      "Int64Index: 3012 entries, 0 to 3011\n",
      "Data columns (total 19 columns):\n",
      " #   Column                  Non-Null Count  Dtype  \n",
      "---  ------                  --------------  -----  \n",
      " 0   Company                 3012 non-null   object \n",
      " 1   Ticker                  3012 non-null   object \n",
      " 2   Open_Price_2018         2808 non-null   object \n",
      " 3   Open_Price_2020         2983 non-null   object \n",
      " 4   Percent Increase        2683 non-null   float64\n",
      " 5   P/E Ratio               1790 non-null   float64\n",
      " 6   2017_Revenue            2899 non-null   object \n",
      " 7   2017_Profit             2243 non-null   object \n",
      " 8   2017_Operating_Expense  1426 non-null   object \n",
      " 9   ROA                     2983 non-null   object \n",
      " 10  ROE                     2983 non-null   object \n",
      " 11  Current_Ratio           2983 non-null   object \n",
      " 12  Quick_Ratio             2983 non-null   object \n",
      " 13  DebtEquity_Ratio        2983 non-null   object \n",
      " 14  Book_Value              2953 non-null   object \n",
      " 15  Net_Income              2953 non-null   object \n",
      " 16  Operating_Margin        2983 non-null   object \n",
      " 17  EPS2                    2953 non-null   object \n",
      " 18  Revenue                 2953 non-null   object \n",
      "dtypes: float64(2), object(17)\n",
      "memory usage: 470.6+ KB\n"
     ]
    }
   ],
   "source": [
    "stocks_df.info()"
   ]
  },
  {
   "cell_type": "markdown",
   "metadata": {},
   "source": [
    "### 1b. convert variables to correct data type"
   ]
  },
  {
   "cell_type": "code",
   "execution_count": 4,
   "metadata": {},
   "outputs": [],
   "source": [
    "stocks_df2 = stocks_df.copy()\n",
    "import numpy as np\n",
    "def convert_to_float(row):\n",
    "    try:\n",
    "        row = str(row)\n",
    "        row = row.replace(',', '')\n",
    "        row = row.replace(' ', '')\n",
    "        return float(row)\n",
    "    except:\n",
    "        return np.NaN\n"
   ]
  },
  {
   "cell_type": "code",
   "execution_count": 5,
   "metadata": {},
   "outputs": [],
   "source": [
    "\n",
    "stocks_df2['Open_Price_2018'] = stocks_df2['Open_Price_2018'].apply(convert_to_float)\n",
    "stocks_df2['Open_Price_2020'] = stocks_df2['Open_Price_2018'].apply(convert_to_float)\n",
    "\n",
    "stocks_df2['2017_Revenue'] = stocks_df2['2017_Revenue'].apply(convert_to_float)\n",
    "stocks_df2['2017_Profit'] = stocks_df2['2017_Profit'].apply(convert_to_float)\n",
    "\n",
    "stocks_df2['2017_Operating_Expense'] = stocks_df2['2017_Operating_Expense'].apply(convert_to_float)\n",
    "stocks_df2['ROA'] = stocks_df2['ROA'].apply(convert_to_float)\n",
    "stocks_df2['ROE'] = stocks_df2['ROE'].apply(convert_to_float)\n",
    "stocks_df2['Current_Ratio'] = stocks_df2['Current_Ratio'].apply(convert_to_float)\n",
    "stocks_df2['Quick_Ratio'] = stocks_df2['Quick_Ratio'].apply(convert_to_float)\n",
    "stocks_df2['DebtEquity_Ratio'] = stocks_df2['DebtEquity_Ratio'].apply(convert_to_float)\n",
    "stocks_df2['Book_Value'] = stocks_df2['Book_Value'].apply(convert_to_float)\n",
    "stocks_df2['Net_Income'] = stocks_df2['Net_Income'].apply(convert_to_float)\n",
    "stocks_df2['Operating_Margin'] = stocks_df2['Operating_Margin'].apply(convert_to_float)\n",
    "stocks_df2['EPS2'] = stocks_df2['EPS2'].apply(convert_to_float)\n",
    "stocks_df2['ROA'] = stocks_df2['ROA'].apply(convert_to_float)\n",
    "stocks_df2['Revenue'] = stocks_df2['Revenue'].apply(convert_to_float)"
   ]
  },
  {
   "cell_type": "code",
   "execution_count": 6,
   "metadata": {},
   "outputs": [
    {
     "name": "stdout",
     "output_type": "stream",
     "text": [
      "<class 'pandas.core.frame.DataFrame'>\n",
      "Int64Index: 3012 entries, 0 to 3011\n",
      "Data columns (total 19 columns):\n",
      " #   Column                  Non-Null Count  Dtype  \n",
      "---  ------                  --------------  -----  \n",
      " 0   Company                 3012 non-null   object \n",
      " 1   Ticker                  3012 non-null   object \n",
      " 2   Open_Price_2018         2710 non-null   float64\n",
      " 3   Open_Price_2020         2710 non-null   float64\n",
      " 4   Percent Increase        2683 non-null   float64\n",
      " 5   P/E Ratio               1790 non-null   float64\n",
      " 6   2017_Revenue            2892 non-null   float64\n",
      " 7   2017_Profit             2218 non-null   float64\n",
      " 8   2017_Operating_Expense  1424 non-null   float64\n",
      " 9   ROA                     2963 non-null   float64\n",
      " 10  ROE                     2736 non-null   float64\n",
      " 11  Current_Ratio           2488 non-null   float64\n",
      " 12  Quick_Ratio             2486 non-null   float64\n",
      " 13  DebtEquity_Ratio        2216 non-null   float64\n",
      " 14  Book_Value              2731 non-null   float64\n",
      " 15  Net_Income              2922 non-null   float64\n",
      " 16  Operating_Margin        2319 non-null   float64\n",
      " 17  EPS2                    2931 non-null   float64\n",
      " 18  Revenue                 2821 non-null   float64\n",
      "dtypes: float64(17), object(2)\n",
      "memory usage: 470.6+ KB\n"
     ]
    }
   ],
   "source": [
    "#remove variables used to calculate target variable, name of company\n",
    "#stocks_df2 = stocks_df2.drop(columns = ['Open_Price_2018', 'Open_Price_2020', 'Company', 'Ticker'], axis = 1)\n",
    "stocks_df2.info()"
   ]
  },
  {
   "cell_type": "markdown",
   "metadata": {},
   "source": [
    "## 2. Create Obvious New Features based on this article:\n",
    "This article gives 15 financial ratios helpful in investor research.\n",
    "\n",
    "https://investinganswers.com/articles/15-financial-ratios-every-investor-should-use\n"
   ]
  },
  {
   "cell_type": "code",
   "execution_count": 7,
   "metadata": {},
   "outputs": [],
   "source": [
    "stocks_df2['PE Ratio'] = stocks_df2['Open_Price_2018']/stocks_df2['EPS2']\n",
    "stocks_df2['Price_Book_Ratio'] = stocks_df2['Open_Price_2018']/stocks_df2['Book_Value']"
   ]
  },
  {
   "cell_type": "code",
   "execution_count": 8,
   "metadata": {},
   "outputs": [
    {
     "name": "stdout",
     "output_type": "stream",
     "text": [
      "<class 'pandas.core.frame.DataFrame'>\n",
      "Int64Index: 3012 entries, 0 to 3011\n",
      "Data columns (total 21 columns):\n",
      " #   Column                  Non-Null Count  Dtype  \n",
      "---  ------                  --------------  -----  \n",
      " 0   Company                 3012 non-null   object \n",
      " 1   Ticker                  3012 non-null   object \n",
      " 2   Open_Price_2018         2710 non-null   float64\n",
      " 3   Open_Price_2020         2710 non-null   float64\n",
      " 4   Percent Increase        2683 non-null   float64\n",
      " 5   P/E Ratio               1790 non-null   float64\n",
      " 6   2017_Revenue            2892 non-null   float64\n",
      " 7   2017_Profit             2218 non-null   float64\n",
      " 8   2017_Operating_Expense  1424 non-null   float64\n",
      " 9   ROA                     2963 non-null   float64\n",
      " 10  ROE                     2736 non-null   float64\n",
      " 11  Current_Ratio           2488 non-null   float64\n",
      " 12  Quick_Ratio             2486 non-null   float64\n",
      " 13  DebtEquity_Ratio        2216 non-null   float64\n",
      " 14  Book_Value              2731 non-null   float64\n",
      " 15  Net_Income              2922 non-null   float64\n",
      " 16  Operating_Margin        2319 non-null   float64\n",
      " 17  EPS2                    2931 non-null   float64\n",
      " 18  Revenue                 2821 non-null   float64\n",
      " 19  PE Ratio                2667 non-null   float64\n",
      " 20  Price_Book_Ratio        2637 non-null   float64\n",
      "dtypes: float64(19), object(2)\n",
      "memory usage: 517.7+ KB\n"
     ]
    }
   ],
   "source": [
    "stocks_df2.info()"
   ]
  },
  {
   "cell_type": "markdown",
   "metadata": {},
   "source": [
    "## 3. EDA"
   ]
  },
  {
   "cell_type": "markdown",
   "metadata": {},
   "source": [
    "### remove outliers"
   ]
  },
  {
   "cell_type": "code",
   "execution_count": 9,
   "metadata": {},
   "outputs": [
    {
     "data": {
      "text/html": [
       "<div>\n",
       "<style scoped>\n",
       "    .dataframe tbody tr th:only-of-type {\n",
       "        vertical-align: middle;\n",
       "    }\n",
       "\n",
       "    .dataframe tbody tr th {\n",
       "        vertical-align: top;\n",
       "    }\n",
       "\n",
       "    .dataframe thead th {\n",
       "        text-align: right;\n",
       "    }\n",
       "</style>\n",
       "<table border=\"1\" class=\"dataframe\">\n",
       "  <thead>\n",
       "    <tr style=\"text-align: right;\">\n",
       "      <th></th>\n",
       "      <th>Company</th>\n",
       "      <th>Ticker</th>\n",
       "      <th>Open_Price_2018</th>\n",
       "      <th>Open_Price_2020</th>\n",
       "      <th>Percent Increase</th>\n",
       "      <th>P/E Ratio</th>\n",
       "      <th>2017_Revenue</th>\n",
       "      <th>2017_Profit</th>\n",
       "      <th>2017_Operating_Expense</th>\n",
       "      <th>ROA</th>\n",
       "      <th>...</th>\n",
       "      <th>Current_Ratio</th>\n",
       "      <th>Quick_Ratio</th>\n",
       "      <th>DebtEquity_Ratio</th>\n",
       "      <th>Book_Value</th>\n",
       "      <th>Net_Income</th>\n",
       "      <th>Operating_Margin</th>\n",
       "      <th>EPS2</th>\n",
       "      <th>Revenue</th>\n",
       "      <th>PE Ratio</th>\n",
       "      <th>Price_Book_Ratio</th>\n",
       "    </tr>\n",
       "  </thead>\n",
       "  <tbody>\n",
       "    <tr>\n",
       "      <th>0</th>\n",
       "      <td>1-800 FLOWERS COM</td>\n",
       "      <td>FLWS</td>\n",
       "      <td>11.15</td>\n",
       "      <td>11.15</td>\n",
       "      <td>25.201794</td>\n",
       "      <td>NaN</td>\n",
       "      <td>1193625.0</td>\n",
       "      <td>520281.000</td>\n",
       "      <td>NaN</td>\n",
       "      <td>8.32</td>\n",
       "      <td>...</td>\n",
       "      <td>2.06</td>\n",
       "      <td>1.31</td>\n",
       "      <td>0.36</td>\n",
       "      <td>4.21</td>\n",
       "      <td>44.0</td>\n",
       "      <td>3.9</td>\n",
       "      <td>0.65</td>\n",
       "      <td>1194.0</td>\n",
       "      <td>17.153846</td>\n",
       "      <td>2.648456</td>\n",
       "    </tr>\n",
       "    <tr>\n",
       "      <th>1</th>\n",
       "      <td>1ST CONSTITUTION BANCORP</td>\n",
       "      <td>FCCY</td>\n",
       "      <td>18.20</td>\n",
       "      <td>18.20</td>\n",
       "      <td>22.802198</td>\n",
       "      <td>NaN</td>\n",
       "      <td>44405.0</td>\n",
       "      <td>NaN</td>\n",
       "      <td>NaN</td>\n",
       "      <td>0.65</td>\n",
       "      <td>...</td>\n",
       "      <td>NaN</td>\n",
       "      <td>NaN</td>\n",
       "      <td>0.17</td>\n",
       "      <td>13.81</td>\n",
       "      <td>7.0</td>\n",
       "      <td>NaN</td>\n",
       "      <td>0.83</td>\n",
       "      <td>44.0</td>\n",
       "      <td>21.927711</td>\n",
       "      <td>1.317886</td>\n",
       "    </tr>\n",
       "    <tr>\n",
       "      <th>2</th>\n",
       "      <td>1ST SOURCE CORP</td>\n",
       "      <td>SRCE</td>\n",
       "      <td>49.89</td>\n",
       "      <td>49.89</td>\n",
       "      <td>2.725997</td>\n",
       "      <td>19.188462</td>\n",
       "      <td>284337.0</td>\n",
       "      <td>NaN</td>\n",
       "      <td>NaN</td>\n",
       "      <td>1.19</td>\n",
       "      <td>...</td>\n",
       "      <td>NaN</td>\n",
       "      <td>NaN</td>\n",
       "      <td>0.18</td>\n",
       "      <td>27.39</td>\n",
       "      <td>68.0</td>\n",
       "      <td>NaN</td>\n",
       "      <td>2.60</td>\n",
       "      <td>284.0</td>\n",
       "      <td>19.188462</td>\n",
       "      <td>1.821468</td>\n",
       "    </tr>\n",
       "    <tr>\n",
       "      <th>3</th>\n",
       "      <td>22ND CENTURY GROUP INC</td>\n",
       "      <td>XXII</td>\n",
       "      <td>3.12</td>\n",
       "      <td>3.12</td>\n",
       "      <td>-63.782051</td>\n",
       "      <td>NaN</td>\n",
       "      <td>16600.0</td>\n",
       "      <td>-707.912</td>\n",
       "      <td>12592.0</td>\n",
       "      <td>-24.27</td>\n",
       "      <td>...</td>\n",
       "      <td>15.68</td>\n",
       "      <td>14.74</td>\n",
       "      <td>NaN</td>\n",
       "      <td>0.23</td>\n",
       "      <td>-13.0</td>\n",
       "      <td>-80.1</td>\n",
       "      <td>-0.13</td>\n",
       "      <td>17.0</td>\n",
       "      <td>-24.000000</td>\n",
       "      <td>13.565217</td>\n",
       "    </tr>\n",
       "    <tr>\n",
       "      <th>4</th>\n",
       "      <td>2U INC</td>\n",
       "      <td>TWOU</td>\n",
       "      <td>64.26</td>\n",
       "      <td>64.26</td>\n",
       "      <td>-64.021164</td>\n",
       "      <td>NaN</td>\n",
       "      <td>286752.0</td>\n",
       "      <td>229376.000</td>\n",
       "      <td>259514.0</td>\n",
       "      <td>-8.10</td>\n",
       "      <td>...</td>\n",
       "      <td>4.28</td>\n",
       "      <td>4.10</td>\n",
       "      <td>0.06</td>\n",
       "      <td>7.04</td>\n",
       "      <td>-29.0</td>\n",
       "      <td>-10.5</td>\n",
       "      <td>-0.60</td>\n",
       "      <td>287.0</td>\n",
       "      <td>-107.100000</td>\n",
       "      <td>9.127841</td>\n",
       "    </tr>\n",
       "    <tr>\n",
       "      <th>...</th>\n",
       "      <td>...</td>\n",
       "      <td>...</td>\n",
       "      <td>...</td>\n",
       "      <td>...</td>\n",
       "      <td>...</td>\n",
       "      <td>...</td>\n",
       "      <td>...</td>\n",
       "      <td>...</td>\n",
       "      <td>...</td>\n",
       "      <td>...</td>\n",
       "      <td>...</td>\n",
       "      <td>...</td>\n",
       "      <td>...</td>\n",
       "      <td>...</td>\n",
       "      <td>...</td>\n",
       "      <td>...</td>\n",
       "      <td>...</td>\n",
       "      <td>...</td>\n",
       "      <td>...</td>\n",
       "      <td>...</td>\n",
       "      <td>...</td>\n",
       "    </tr>\n",
       "    <tr>\n",
       "      <th>3005</th>\n",
       "      <td>ZOGENIX INC</td>\n",
       "      <td>ZGNX</td>\n",
       "      <td>35.10</td>\n",
       "      <td>35.10</td>\n",
       "      <td>45.555556</td>\n",
       "      <td>-7.468085</td>\n",
       "      <td>9821.0</td>\n",
       "      <td>6382.000</td>\n",
       "      <td>93334.0</td>\n",
       "      <td>-39.07</td>\n",
       "      <td>...</td>\n",
       "      <td>14.52</td>\n",
       "      <td>13.99</td>\n",
       "      <td>NaN</td>\n",
       "      <td>1.71</td>\n",
       "      <td>-127.0</td>\n",
       "      <td>-959.6</td>\n",
       "      <td>-4.65</td>\n",
       "      <td>10.0</td>\n",
       "      <td>-7.548387</td>\n",
       "      <td>20.526316</td>\n",
       "    </tr>\n",
       "    <tr>\n",
       "      <th>3007</th>\n",
       "      <td>ZUMIEZ INC</td>\n",
       "      <td>ZUMZ</td>\n",
       "      <td>23.10</td>\n",
       "      <td>23.10</td>\n",
       "      <td>46.103896</td>\n",
       "      <td>21.000000</td>\n",
       "      <td>927401.0</td>\n",
       "      <td>NaN</td>\n",
       "      <td>NaN</td>\n",
       "      <td>5.79</td>\n",
       "      <td>...</td>\n",
       "      <td>2.81</td>\n",
       "      <td>1.40</td>\n",
       "      <td>NaN</td>\n",
       "      <td>12.93</td>\n",
       "      <td>27.0</td>\n",
       "      <td>5.3</td>\n",
       "      <td>1.08</td>\n",
       "      <td>927.0</td>\n",
       "      <td>21.388889</td>\n",
       "      <td>1.786543</td>\n",
       "    </tr>\n",
       "    <tr>\n",
       "      <th>3009</th>\n",
       "      <td>ZYNERBA PHARMACEUTICALS</td>\n",
       "      <td>ZYNE</td>\n",
       "      <td>12.81</td>\n",
       "      <td>12.81</td>\n",
       "      <td>-54.722873</td>\n",
       "      <td>-5.124000</td>\n",
       "      <td>0.0</td>\n",
       "      <td>NaN</td>\n",
       "      <td>NaN</td>\n",
       "      <td>-60.62</td>\n",
       "      <td>...</td>\n",
       "      <td>9.16</td>\n",
       "      <td>8.93</td>\n",
       "      <td>NaN</td>\n",
       "      <td>4.77</td>\n",
       "      <td>-32.0</td>\n",
       "      <td>NaN</td>\n",
       "      <td>-2.48</td>\n",
       "      <td>NaN</td>\n",
       "      <td>-5.165323</td>\n",
       "      <td>2.685535</td>\n",
       "    </tr>\n",
       "    <tr>\n",
       "      <th>3010</th>\n",
       "      <td>ZYNEX</td>\n",
       "      <td>ZYXI</td>\n",
       "      <td>3.24</td>\n",
       "      <td>3.24</td>\n",
       "      <td>141.049383</td>\n",
       "      <td>NaN</td>\n",
       "      <td>23432.0</td>\n",
       "      <td>NaN</td>\n",
       "      <td>NaN</td>\n",
       "      <td>113.13</td>\n",
       "      <td>...</td>\n",
       "      <td>2.08</td>\n",
       "      <td>1.93</td>\n",
       "      <td>NaN</td>\n",
       "      <td>0.05</td>\n",
       "      <td>7.0</td>\n",
       "      <td>38.2</td>\n",
       "      <td>0.22</td>\n",
       "      <td>23.0</td>\n",
       "      <td>14.727273</td>\n",
       "      <td>64.800000</td>\n",
       "    </tr>\n",
       "    <tr>\n",
       "      <th>3011</th>\n",
       "      <td>ZYNGA INC</td>\n",
       "      <td>ZNGA</td>\n",
       "      <td>3.92</td>\n",
       "      <td>3.92</td>\n",
       "      <td>56.122449</td>\n",
       "      <td>NaN</td>\n",
       "      <td>861390.0</td>\n",
       "      <td>602419.000</td>\n",
       "      <td>576695.0</td>\n",
       "      <td>1.37</td>\n",
       "      <td>...</td>\n",
       "      <td>2.94</td>\n",
       "      <td>2.78</td>\n",
       "      <td>NaN</td>\n",
       "      <td>1.87</td>\n",
       "      <td>27.0</td>\n",
       "      <td>3.0</td>\n",
       "      <td>0.03</td>\n",
       "      <td>861.0</td>\n",
       "      <td>130.666667</td>\n",
       "      <td>2.096257</td>\n",
       "    </tr>\n",
       "  </tbody>\n",
       "</table>\n",
       "<p>2601 rows × 21 columns</p>\n",
       "</div>"
      ],
      "text/plain": [
       "                       Company Ticker  Open_Price_2018  Open_Price_2020  \\\n",
       "0            1-800 FLOWERS COM   FLWS            11.15            11.15   \n",
       "1     1ST CONSTITUTION BANCORP   FCCY            18.20            18.20   \n",
       "2              1ST SOURCE CORP   SRCE            49.89            49.89   \n",
       "3       22ND CENTURY GROUP INC   XXII             3.12             3.12   \n",
       "4                       2U INC   TWOU            64.26            64.26   \n",
       "...                        ...    ...              ...              ...   \n",
       "3005               ZOGENIX INC   ZGNX            35.10            35.10   \n",
       "3007                ZUMIEZ INC   ZUMZ            23.10            23.10   \n",
       "3009   ZYNERBA PHARMACEUTICALS   ZYNE            12.81            12.81   \n",
       "3010                     ZYNEX   ZYXI             3.24             3.24   \n",
       "3011                 ZYNGA INC   ZNGA             3.92             3.92   \n",
       "\n",
       "      Percent Increase  P/E Ratio  2017_Revenue  2017_Profit  \\\n",
       "0            25.201794        NaN     1193625.0   520281.000   \n",
       "1            22.802198        NaN       44405.0          NaN   \n",
       "2             2.725997  19.188462      284337.0          NaN   \n",
       "3           -63.782051        NaN       16600.0     -707.912   \n",
       "4           -64.021164        NaN      286752.0   229376.000   \n",
       "...                ...        ...           ...          ...   \n",
       "3005         45.555556  -7.468085        9821.0     6382.000   \n",
       "3007         46.103896  21.000000      927401.0          NaN   \n",
       "3009        -54.722873  -5.124000           0.0          NaN   \n",
       "3010        141.049383        NaN       23432.0          NaN   \n",
       "3011         56.122449        NaN      861390.0   602419.000   \n",
       "\n",
       "      2017_Operating_Expense     ROA  ...  Current_Ratio  Quick_Ratio  \\\n",
       "0                        NaN    8.32  ...           2.06         1.31   \n",
       "1                        NaN    0.65  ...            NaN          NaN   \n",
       "2                        NaN    1.19  ...            NaN          NaN   \n",
       "3                    12592.0  -24.27  ...          15.68        14.74   \n",
       "4                   259514.0   -8.10  ...           4.28         4.10   \n",
       "...                      ...     ...  ...            ...          ...   \n",
       "3005                 93334.0  -39.07  ...          14.52        13.99   \n",
       "3007                     NaN    5.79  ...           2.81         1.40   \n",
       "3009                     NaN  -60.62  ...           9.16         8.93   \n",
       "3010                     NaN  113.13  ...           2.08         1.93   \n",
       "3011                576695.0    1.37  ...           2.94         2.78   \n",
       "\n",
       "      DebtEquity_Ratio  Book_Value  Net_Income  Operating_Margin  EPS2  \\\n",
       "0                 0.36        4.21        44.0               3.9  0.65   \n",
       "1                 0.17       13.81         7.0               NaN  0.83   \n",
       "2                 0.18       27.39        68.0               NaN  2.60   \n",
       "3                  NaN        0.23       -13.0             -80.1 -0.13   \n",
       "4                 0.06        7.04       -29.0             -10.5 -0.60   \n",
       "...                ...         ...         ...               ...   ...   \n",
       "3005               NaN        1.71      -127.0            -959.6 -4.65   \n",
       "3007               NaN       12.93        27.0               5.3  1.08   \n",
       "3009               NaN        4.77       -32.0               NaN -2.48   \n",
       "3010               NaN        0.05         7.0              38.2  0.22   \n",
       "3011               NaN        1.87        27.0               3.0  0.03   \n",
       "\n",
       "      Revenue    PE Ratio  Price_Book_Ratio  \n",
       "0      1194.0   17.153846          2.648456  \n",
       "1        44.0   21.927711          1.317886  \n",
       "2       284.0   19.188462          1.821468  \n",
       "3        17.0  -24.000000         13.565217  \n",
       "4       287.0 -107.100000          9.127841  \n",
       "...       ...         ...               ...  \n",
       "3005     10.0   -7.548387         20.526316  \n",
       "3007    927.0   21.388889          1.786543  \n",
       "3009      NaN   -5.165323          2.685535  \n",
       "3010     23.0   14.727273         64.800000  \n",
       "3011    861.0  130.666667          2.096257  \n",
       "\n",
       "[2601 rows x 21 columns]"
      ]
     },
     "execution_count": 9,
     "metadata": {},
     "output_type": "execute_result"
    }
   ],
   "source": [
    "describe_df = stocks_df2.describe()\n",
    "#there's outliers in nearly every columns - remove outliers where max < 2* value at 75th percentile \n",
    "# for val in stocks_df2.columns:\n",
    "#     try:\n",
    "#         stocks_df2 = stocks_df2[stocks_df2[val]<10*describe_df.loc['75%',val]]\n",
    "#     except:\n",
    "#         continue\n",
    "\n",
    "stocks_df2 = stocks_df2[stocks_df2['Percent Increase']<5*describe_df.loc['75%', 'Percent Increase']]\n",
    "stocks_df2"
   ]
  },
  {
   "cell_type": "code",
   "execution_count": 10,
   "metadata": {},
   "outputs": [
    {
     "data": {
      "text/html": [
       "<div>\n",
       "<style scoped>\n",
       "    .dataframe tbody tr th:only-of-type {\n",
       "        vertical-align: middle;\n",
       "    }\n",
       "\n",
       "    .dataframe tbody tr th {\n",
       "        vertical-align: top;\n",
       "    }\n",
       "\n",
       "    .dataframe thead th {\n",
       "        text-align: right;\n",
       "    }\n",
       "</style>\n",
       "<table border=\"1\" class=\"dataframe\">\n",
       "  <thead>\n",
       "    <tr style=\"text-align: right;\">\n",
       "      <th></th>\n",
       "      <th>Open_Price_2018</th>\n",
       "      <th>Open_Price_2020</th>\n",
       "      <th>Percent Increase</th>\n",
       "      <th>P/E Ratio</th>\n",
       "      <th>2017_Revenue</th>\n",
       "      <th>2017_Profit</th>\n",
       "      <th>2017_Operating_Expense</th>\n",
       "      <th>ROA</th>\n",
       "      <th>ROE</th>\n",
       "      <th>Current_Ratio</th>\n",
       "      <th>Quick_Ratio</th>\n",
       "      <th>DebtEquity_Ratio</th>\n",
       "      <th>Book_Value</th>\n",
       "      <th>Net_Income</th>\n",
       "      <th>Operating_Margin</th>\n",
       "      <th>EPS2</th>\n",
       "      <th>Revenue</th>\n",
       "      <th>PE Ratio</th>\n",
       "      <th>Price_Book_Ratio</th>\n",
       "    </tr>\n",
       "  </thead>\n",
       "  <tbody>\n",
       "    <tr>\n",
       "      <th>count</th>\n",
       "      <td>2601.000000</td>\n",
       "      <td>2601.000000</td>\n",
       "      <td>2601.000000</td>\n",
       "      <td>1741.000000</td>\n",
       "      <td>2.595000e+03</td>\n",
       "      <td>2.011000e+03</td>\n",
       "      <td>1.269000e+03</td>\n",
       "      <td>2579.000000</td>\n",
       "      <td>2458.000000</td>\n",
       "      <td>2141.000000</td>\n",
       "      <td>2140.000000</td>\n",
       "      <td>2035.000000</td>\n",
       "      <td>2533.000000</td>\n",
       "      <td>2551.000000</td>\n",
       "      <td>2033.000000</td>\n",
       "      <td>2561.00000</td>\n",
       "      <td>2495.000000</td>\n",
       "      <td>2561.000000</td>\n",
       "      <td>2533.000000</td>\n",
       "    </tr>\n",
       "    <tr>\n",
       "      <th>mean</th>\n",
       "      <td>52.048965</td>\n",
       "      <td>52.048965</td>\n",
       "      <td>2.739696</td>\n",
       "      <td>16.314812</td>\n",
       "      <td>5.189662e+06</td>\n",
       "      <td>1.928268e+06</td>\n",
       "      <td>1.194159e+06</td>\n",
       "      <td>-1.832986</td>\n",
       "      <td>3.188308</td>\n",
       "      <td>3.200140</td>\n",
       "      <td>2.523682</td>\n",
       "      <td>1.875799</td>\n",
       "      <td>18.161109</td>\n",
       "      <td>418.785966</td>\n",
       "      <td>-3.907083</td>\n",
       "      <td>1.25483</td>\n",
       "      <td>5364.092184</td>\n",
       "      <td>23.436779</td>\n",
       "      <td>5.165807</td>\n",
       "    </tr>\n",
       "    <tr>\n",
       "      <th>std</th>\n",
       "      <td>60.162576</td>\n",
       "      <td>60.162576</td>\n",
       "      <td>41.913108</td>\n",
       "      <td>21.529985</td>\n",
       "      <td>1.881235e+07</td>\n",
       "      <td>6.281772e+06</td>\n",
       "      <td>4.616424e+06</td>\n",
       "      <td>33.992271</td>\n",
       "      <td>72.083767</td>\n",
       "      <td>4.396888</td>\n",
       "      <td>4.192180</td>\n",
       "      <td>16.803873</td>\n",
       "      <td>28.743693</td>\n",
       "      <td>2033.540533</td>\n",
       "      <td>91.224842</td>\n",
       "      <td>10.61643</td>\n",
       "      <td>19144.756414</td>\n",
       "      <td>265.485416</td>\n",
       "      <td>57.502329</td>\n",
       "    </tr>\n",
       "    <tr>\n",
       "      <th>min</th>\n",
       "      <td>0.840000</td>\n",
       "      <td>0.840000</td>\n",
       "      <td>-98.571429</td>\n",
       "      <td>-86.366667</td>\n",
       "      <td>-2.213800e+04</td>\n",
       "      <td>-2.480000e+05</td>\n",
       "      <td>-3.730000e+05</td>\n",
       "      <td>-976.260000</td>\n",
       "      <td>-909.900000</td>\n",
       "      <td>0.010000</td>\n",
       "      <td>0.010000</td>\n",
       "      <td>0.010000</td>\n",
       "      <td>-64.460000</td>\n",
       "      <td>-6798.000000</td>\n",
       "      <td>-959.600000</td>\n",
       "      <td>-448.88000</td>\n",
       "      <td>-22.000000</td>\n",
       "      <td>-4581.000000</td>\n",
       "      <td>-629.166667</td>\n",
       "    </tr>\n",
       "    <tr>\n",
       "      <th>25%</th>\n",
       "      <td>17.930000</td>\n",
       "      <td>17.930000</td>\n",
       "      <td>-22.363171</td>\n",
       "      <td>7.679687</td>\n",
       "      <td>2.201395e+05</td>\n",
       "      <td>1.506410e+05</td>\n",
       "      <td>9.548200e+04</td>\n",
       "      <td>0.055000</td>\n",
       "      <td>0.755000</td>\n",
       "      <td>1.240000</td>\n",
       "      <td>0.780000</td>\n",
       "      <td>0.295000</td>\n",
       "      <td>5.580000</td>\n",
       "      <td>3.000000</td>\n",
       "      <td>3.300000</td>\n",
       "      <td>0.02000</td>\n",
       "      <td>265.500000</td>\n",
       "      <td>2.665635</td>\n",
       "      <td>1.515129</td>\n",
       "    </tr>\n",
       "    <tr>\n",
       "      <th>50%</th>\n",
       "      <td>34.400000</td>\n",
       "      <td>34.400000</td>\n",
       "      <td>0.582734</td>\n",
       "      <td>17.655172</td>\n",
       "      <td>9.123800e+05</td>\n",
       "      <td>4.391150e+05</td>\n",
       "      <td>2.728120e+05</td>\n",
       "      <td>2.460000</td>\n",
       "      <td>8.510000</td>\n",
       "      <td>1.920000</td>\n",
       "      <td>1.280000</td>\n",
       "      <td>0.660000</td>\n",
       "      <td>12.890000</td>\n",
       "      <td>53.000000</td>\n",
       "      <td>9.600000</td>\n",
       "      <td>1.20000</td>\n",
       "      <td>976.000000</td>\n",
       "      <td>18.853659</td>\n",
       "      <td>2.444589</td>\n",
       "    </tr>\n",
       "    <tr>\n",
       "      <th>75%</th>\n",
       "      <td>63.030000</td>\n",
       "      <td>63.030000</td>\n",
       "      <td>25.227273</td>\n",
       "      <td>25.022222</td>\n",
       "      <td>3.163966e+06</td>\n",
       "      <td>1.334467e+06</td>\n",
       "      <td>7.627290e+05</td>\n",
       "      <td>6.605000</td>\n",
       "      <td>16.470000</td>\n",
       "      <td>3.240000</td>\n",
       "      <td>2.380000</td>\n",
       "      <td>1.250000</td>\n",
       "      <td>22.950000</td>\n",
       "      <td>241.500000</td>\n",
       "      <td>17.800000</td>\n",
       "      <td>2.80000</td>\n",
       "      <td>3344.500000</td>\n",
       "      <td>30.000000</td>\n",
       "      <td>4.704064</td>\n",
       "    </tr>\n",
       "    <tr>\n",
       "      <th>max</th>\n",
       "      <td>804.000000</td>\n",
       "      <td>804.000000</td>\n",
       "      <td>142.758621</td>\n",
       "      <td>272.653846</td>\n",
       "      <td>5.003430e+08</td>\n",
       "      <td>1.269470e+08</td>\n",
       "      <td>1.065100e+08</td>\n",
       "      <td>113.130000</td>\n",
       "      <td>898.930000</td>\n",
       "      <td>69.920000</td>\n",
       "      <td>69.800000</td>\n",
       "      <td>634.040000</td>\n",
       "      <td>532.860000</td>\n",
       "      <td>48351.000000</td>\n",
       "      <td>84.500000</td>\n",
       "      <td>53.89000</td>\n",
       "      <td>500343.000000</td>\n",
       "      <td>7397.000000</td>\n",
       "      <td>2665.333333</td>\n",
       "    </tr>\n",
       "  </tbody>\n",
       "</table>\n",
       "</div>"
      ],
      "text/plain": [
       "       Open_Price_2018  Open_Price_2020  Percent Increase    P/E Ratio  \\\n",
       "count      2601.000000      2601.000000       2601.000000  1741.000000   \n",
       "mean         52.048965        52.048965          2.739696    16.314812   \n",
       "std          60.162576        60.162576         41.913108    21.529985   \n",
       "min           0.840000         0.840000        -98.571429   -86.366667   \n",
       "25%          17.930000        17.930000        -22.363171     7.679687   \n",
       "50%          34.400000        34.400000          0.582734    17.655172   \n",
       "75%          63.030000        63.030000         25.227273    25.022222   \n",
       "max         804.000000       804.000000        142.758621   272.653846   \n",
       "\n",
       "       2017_Revenue   2017_Profit  2017_Operating_Expense          ROA  \\\n",
       "count  2.595000e+03  2.011000e+03            1.269000e+03  2579.000000   \n",
       "mean   5.189662e+06  1.928268e+06            1.194159e+06    -1.832986   \n",
       "std    1.881235e+07  6.281772e+06            4.616424e+06    33.992271   \n",
       "min   -2.213800e+04 -2.480000e+05           -3.730000e+05  -976.260000   \n",
       "25%    2.201395e+05  1.506410e+05            9.548200e+04     0.055000   \n",
       "50%    9.123800e+05  4.391150e+05            2.728120e+05     2.460000   \n",
       "75%    3.163966e+06  1.334467e+06            7.627290e+05     6.605000   \n",
       "max    5.003430e+08  1.269470e+08            1.065100e+08   113.130000   \n",
       "\n",
       "               ROE  Current_Ratio  Quick_Ratio  DebtEquity_Ratio   Book_Value  \\\n",
       "count  2458.000000    2141.000000  2140.000000       2035.000000  2533.000000   \n",
       "mean      3.188308       3.200140     2.523682          1.875799    18.161109   \n",
       "std      72.083767       4.396888     4.192180         16.803873    28.743693   \n",
       "min    -909.900000       0.010000     0.010000          0.010000   -64.460000   \n",
       "25%       0.755000       1.240000     0.780000          0.295000     5.580000   \n",
       "50%       8.510000       1.920000     1.280000          0.660000    12.890000   \n",
       "75%      16.470000       3.240000     2.380000          1.250000    22.950000   \n",
       "max     898.930000      69.920000    69.800000        634.040000   532.860000   \n",
       "\n",
       "         Net_Income  Operating_Margin        EPS2        Revenue     PE Ratio  \\\n",
       "count   2551.000000       2033.000000  2561.00000    2495.000000  2561.000000   \n",
       "mean     418.785966         -3.907083     1.25483    5364.092184    23.436779   \n",
       "std     2033.540533         91.224842    10.61643   19144.756414   265.485416   \n",
       "min    -6798.000000       -959.600000  -448.88000     -22.000000 -4581.000000   \n",
       "25%        3.000000          3.300000     0.02000     265.500000     2.665635   \n",
       "50%       53.000000          9.600000     1.20000     976.000000    18.853659   \n",
       "75%      241.500000         17.800000     2.80000    3344.500000    30.000000   \n",
       "max    48351.000000         84.500000    53.89000  500343.000000  7397.000000   \n",
       "\n",
       "       Price_Book_Ratio  \n",
       "count       2533.000000  \n",
       "mean           5.165807  \n",
       "std           57.502329  \n",
       "min         -629.166667  \n",
       "25%            1.515129  \n",
       "50%            2.444589  \n",
       "75%            4.704064  \n",
       "max         2665.333333  "
      ]
     },
     "execution_count": 10,
     "metadata": {},
     "output_type": "execute_result"
    }
   ],
   "source": [
    "stocks_df2.describe()"
   ]
  },
  {
   "cell_type": "code",
   "execution_count": 11,
   "metadata": {},
   "outputs": [
    {
     "name": "stdout",
     "output_type": "stream",
     "text": [
      "<class 'pandas.core.frame.DataFrame'>\n",
      "Int64Index: 2601 entries, 0 to 3011\n",
      "Data columns (total 21 columns):\n",
      " #   Column                  Non-Null Count  Dtype  \n",
      "---  ------                  --------------  -----  \n",
      " 0   Company                 2601 non-null   object \n",
      " 1   Ticker                  2601 non-null   object \n",
      " 2   Open_Price_2018         2601 non-null   float64\n",
      " 3   Open_Price_2020         2601 non-null   float64\n",
      " 4   Percent Increase        2601 non-null   float64\n",
      " 5   P/E Ratio               1741 non-null   float64\n",
      " 6   2017_Revenue            2595 non-null   float64\n",
      " 7   2017_Profit             2011 non-null   float64\n",
      " 8   2017_Operating_Expense  1269 non-null   float64\n",
      " 9   ROA                     2579 non-null   float64\n",
      " 10  ROE                     2458 non-null   float64\n",
      " 11  Current_Ratio           2141 non-null   float64\n",
      " 12  Quick_Ratio             2140 non-null   float64\n",
      " 13  DebtEquity_Ratio        2035 non-null   float64\n",
      " 14  Book_Value              2533 non-null   float64\n",
      " 15  Net_Income              2551 non-null   float64\n",
      " 16  Operating_Margin        2033 non-null   float64\n",
      " 17  EPS2                    2561 non-null   float64\n",
      " 18  Revenue                 2495 non-null   float64\n",
      " 19  PE Ratio                2561 non-null   float64\n",
      " 20  Price_Book_Ratio        2533 non-null   float64\n",
      "dtypes: float64(19), object(2)\n",
      "memory usage: 447.0+ KB\n"
     ]
    }
   ],
   "source": [
    "stocks_df2.info()"
   ]
  },
  {
   "cell_type": "markdown",
   "metadata": {},
   "source": [
    "### check null values"
   ]
  },
  {
   "cell_type": "code",
   "execution_count": 12,
   "metadata": {},
   "outputs": [
    {
     "data": {
      "text/plain": [
       "8.51"
      ]
     },
     "execution_count": 12,
     "metadata": {},
     "output_type": "execute_result"
    }
   ],
   "source": [
    "stocks_df2.ROE.median()"
   ]
  },
  {
   "cell_type": "code",
   "execution_count": 13,
   "metadata": {},
   "outputs": [
    {
     "name": "stdout",
     "output_type": "stream",
     "text": [
      "Column:  Company\n",
      "Null Values:  0\n",
      "Column:  Ticker\n",
      "Null Values:  0\n",
      "Column:  Open_Price_2018\n",
      "Null Values:  0\n",
      "Column:  Open_Price_2020\n",
      "Null Values:  0\n",
      "Column:  Percent Increase\n",
      "Null Values:  0\n",
      "Column:  P/E Ratio\n",
      "Null Values:  0\n",
      "Column:  2017_Revenue\n",
      "Null Values:  6\n",
      "Column:  2017_Profit\n",
      "Null Values:  590\n",
      "Column:  2017_Operating_Expense\n",
      "Null Values:  1332\n",
      "Column:  ROA\n",
      "Null Values:  0\n",
      "Column:  ROE\n",
      "Null Values:  0\n",
      "Column:  Current_Ratio\n",
      "Null Values:  0\n",
      "Column:  Quick_Ratio\n",
      "Null Values:  0\n",
      "Column:  DebtEquity_Ratio\n",
      "Null Values:  0\n",
      "Column:  Book_Value\n",
      "Null Values:  0\n",
      "Column:  Net_Income\n",
      "Null Values:  0\n",
      "Column:  Operating_Margin\n",
      "Null Values:  0\n",
      "Column:  EPS2\n",
      "Null Values:  0\n",
      "Column:  Revenue\n",
      "Null Values:  0\n",
      "Column:  PE Ratio\n",
      "Null Values:  0\n",
      "Column:  Price_Book_Ratio\n",
      "Null Values:  0\n"
     ]
    }
   ],
   "source": [
    "stocks_df2.ROA.fillna(stocks_df2.ROA.median(), inplace = True)\n",
    "stocks_df2.ROE.fillna(stocks_df2.ROE.median(), inplace = True)\n",
    "stocks_df2.Current_Ratio.fillna(stocks_df2.Current_Ratio.median(), inplace = True)\n",
    "stocks_df2.Quick_Ratio.fillna(stocks_df2.Quick_Ratio.median(), inplace = True)\n",
    "stocks_df2.DebtEquity_Ratio.fillna(stocks_df2.DebtEquity_Ratio.median(), inplace = True)\n",
    "stocks_df2.Book_Value.fillna(stocks_df2.Book_Value.median(), inplace = True)\n",
    "stocks_df2.Net_Income.fillna(stocks_df2.Net_Income.median(), inplace = True)\n",
    "\n",
    "stocks_df2.Operating_Margin.fillna(stocks_df2.Operating_Margin.median(), inplace = True)\n",
    "stocks_df2.EPS2.fillna(stocks_df2.EPS2.median(), inplace = True)\n",
    "stocks_df2.Revenue.fillna(stocks_df2.Revenue.median(), inplace = True)\n",
    "stocks_df2.Price_Book_Ratio.fillna(stocks_df2.Price_Book_Ratio.median(), inplace = True)\n",
    "stocks_df2['PE Ratio'].fillna(stocks_df2['PE Ratio'].median(), inplace = True)\n",
    "stocks_df2['P/E Ratio'].fillna(stocks_df2['P/E Ratio'].median(), inplace = True)\n",
    "\n",
    "for val in stocks_df2.columns:\n",
    "    print('Column: ', val)\n",
    "    print('Null Values: ' , stocks_df2[val].isnull().sum())\n",
    "\n"
   ]
  },
  {
   "cell_type": "code",
   "execution_count": null,
   "metadata": {},
   "outputs": [],
   "source": []
  },
  {
   "cell_type": "code",
   "execution_count": 14,
   "metadata": {},
   "outputs": [
    {
     "name": "stdout",
     "output_type": "stream",
     "text": [
      "<class 'pandas.core.frame.DataFrame'>\n",
      "Int64Index: 2601 entries, 0 to 3011\n",
      "Data columns (total 21 columns):\n",
      " #   Column                  Non-Null Count  Dtype  \n",
      "---  ------                  --------------  -----  \n",
      " 0   Company                 2601 non-null   object \n",
      " 1   Ticker                  2601 non-null   object \n",
      " 2   Open_Price_2018         2601 non-null   float64\n",
      " 3   Open_Price_2020         2601 non-null   float64\n",
      " 4   Percent Increase        2601 non-null   float64\n",
      " 5   P/E Ratio               2601 non-null   float64\n",
      " 6   2017_Revenue            2595 non-null   float64\n",
      " 7   2017_Profit             2011 non-null   float64\n",
      " 8   2017_Operating_Expense  1269 non-null   float64\n",
      " 9   ROA                     2601 non-null   float64\n",
      " 10  ROE                     2601 non-null   float64\n",
      " 11  Current_Ratio           2601 non-null   float64\n",
      " 12  Quick_Ratio             2601 non-null   float64\n",
      " 13  DebtEquity_Ratio        2601 non-null   float64\n",
      " 14  Book_Value              2601 non-null   float64\n",
      " 15  Net_Income              2601 non-null   float64\n",
      " 16  Operating_Margin        2601 non-null   float64\n",
      " 17  EPS2                    2601 non-null   float64\n",
      " 18  Revenue                 2601 non-null   float64\n",
      " 19  PE Ratio                2601 non-null   float64\n",
      " 20  Price_Book_Ratio        2601 non-null   float64\n",
      "dtypes: float64(19), object(2)\n",
      "memory usage: 447.0+ KB\n"
     ]
    }
   ],
   "source": [
    "stocks_df2.info()"
   ]
  },
  {
   "cell_type": "markdown",
   "metadata": {},
   "source": []
  },
  {
   "cell_type": "code",
   "execution_count": null,
   "metadata": {},
   "outputs": [],
   "source": []
  },
  {
   "cell_type": "markdown",
   "metadata": {},
   "source": [
    "### Explore variable relationships with correlation heatmap and pairplots"
   ]
  },
  {
   "cell_type": "code",
   "execution_count": 15,
   "metadata": {},
   "outputs": [
    {
     "data": {
      "text/plain": [
       "<matplotlib.axes._subplots.AxesSubplot at 0x119d12790>"
      ]
     },
     "execution_count": 15,
     "metadata": {},
     "output_type": "execute_result"
    },
    {
     "data": {
      "image/png": "[encoded data removed]",
      "text/plain": [
       "<Figure size 1080x1080 with 2 Axes>"
      ]
     },
     "metadata": {
      "needs_background": "light"
     },
     "output_type": "display_data"
    }
   ],
   "source": [
    "import seaborn as sns\n",
    "import matplotlib.pyplot as plt\n",
    "plt.figure(figsize = [15,15])\n",
    "sns.heatmap(stocks_df2.corr(), cmap = 'seismic', annot = True, vmin = -1, vmax = 1)"
   ]
  },
  {
   "cell_type": "code",
   "execution_count": 16,
   "metadata": {},
   "outputs": [],
   "source": [
    "# plt.figure(figsize = [30,30])\n",
    "# sns.pairplot(stocks_df2, height=2.2, aspect=1.5);"
   ]
  },
  {
   "cell_type": "code",
   "execution_count": null,
   "metadata": {},
   "outputs": [],
   "source": []
  },
  {
   "cell_type": "markdown",
   "metadata": {},
   "source": [
    "### drop multicollinear variables\n"
   ]
  },
  {
   "cell_type": "code",
   "execution_count": 17,
   "metadata": {},
   "outputs": [],
   "source": [
    "stocks_df2.drop(['Open_Price_2018', 'Open_Price_2020', 'Company',  'Ticker', 'P/E Ratio', 'PE Ratio', '2017_Revenue', '2017_Profit', '2017_Operating_Expense', 'Net_Income', 'Revenue', 'Current_Ratio'], axis = 1, inplace = True)"
   ]
  },
  {
   "cell_type": "code",
   "execution_count": 18,
   "metadata": {},
   "outputs": [
    {
     "data": {
      "text/plain": [
       "<matplotlib.axes._subplots.AxesSubplot at 0x120580fd0>"
      ]
     },
     "execution_count": 18,
     "metadata": {},
     "output_type": "execute_result"
    },
    {
     "data": {
      "image/png": "[encoded data removed]",
      "text/plain": [
       "<Figure size 576x576 with 2 Axes>"
      ]
     },
     "metadata": {
      "needs_background": "light"
     },
     "output_type": "display_data"
    }
   ],
   "source": [
    "#are any variables still multicollinear?\n",
    "plt.figure(figsize = [8,8])\n",
    "sns.heatmap(stocks_df2.corr(), cmap = 'seismic', annot = True, vmin = -1, vmax = 1)\n",
    "\n",
    "#doesnt look like it, highest corr value is now .34"
   ]
  },
  {
   "cell_type": "code",
   "execution_count": null,
   "metadata": {},
   "outputs": [],
   "source": []
  },
  {
   "cell_type": "code",
   "execution_count": null,
   "metadata": {},
   "outputs": [],
   "source": []
  },
  {
   "cell_type": "markdown",
   "metadata": {},
   "source": [
    "### check skew of target variable"
   ]
  },
  {
   "cell_type": "code",
   "execution_count": 19,
   "metadata": {},
   "outputs": [
    {
     "name": "stderr",
     "output_type": "stream",
     "text": [
      "/Users/plam1122/opt/anaconda3/envs/metis/lib/python3.8/site-packages/pandas/core/series.py:679: RuntimeWarning: invalid value encountered in sqrt\n",
      "  result = getattr(ufunc, method)(*inputs, **kwargs)\n"
     ]
    },
    {
     "name": "stdout",
     "output_type": "stream",
     "text": [
      "Skew of Target Variable: 0.41688627260817746\n",
      "Skew of Sqrt Target Variable: 0.4023041887252759\n"
     ]
    },
    {
     "data": {
      "image/png": "[encoded data removed]",
      "text/plain": [
       "<Figure size 432x288 with 1 Axes>"
      ]
     },
     "metadata": {
      "needs_background": "light"
     },
     "output_type": "display_data"
    }
   ],
   "source": [
    "from scipy import stats\n",
    "from scipy.stats import skew\n",
    "adjusted_y = np.sqrt(stocks_df2['Percent Increase'])\n",
    "plt.hist(stocks_df2['Percent Increase'])\n",
    "print('Skew of Target Variable:', skew(stocks_df2['Percent Increase']))\n",
    "print('Skew of Sqrt Target Variable:', pd.Series(adjusted_y).skew())"
   ]
  },
  {
   "cell_type": "code",
   "execution_count": 20,
   "metadata": {},
   "outputs": [
    {
     "data": {
      "text/html": [
       "<div>\n",
       "<style scoped>\n",
       "    .dataframe tbody tr th:only-of-type {\n",
       "        vertical-align: middle;\n",
       "    }\n",
       "\n",
       "    .dataframe tbody tr th {\n",
       "        vertical-align: top;\n",
       "    }\n",
       "\n",
       "    .dataframe thead th {\n",
       "        text-align: right;\n",
       "    }\n",
       "</style>\n",
       "<table border=\"1\" class=\"dataframe\">\n",
       "  <thead>\n",
       "    <tr style=\"text-align: right;\">\n",
       "      <th></th>\n",
       "      <th>Percent Increase</th>\n",
       "      <th>ROA</th>\n",
       "      <th>ROE</th>\n",
       "      <th>Quick_Ratio</th>\n",
       "      <th>DebtEquity_Ratio</th>\n",
       "      <th>Book_Value</th>\n",
       "      <th>Operating_Margin</th>\n",
       "      <th>EPS2</th>\n",
       "      <th>Price_Book_Ratio</th>\n",
       "    </tr>\n",
       "  </thead>\n",
       "  <tbody>\n",
       "    <tr>\n",
       "      <th>0</th>\n",
       "      <td>25.201794</td>\n",
       "      <td>8.32</td>\n",
       "      <td>16.78</td>\n",
       "      <td>1.31</td>\n",
       "      <td>0.36</td>\n",
       "      <td>4.21</td>\n",
       "      <td>3.9</td>\n",
       "      <td>0.65</td>\n",
       "      <td>2.648456</td>\n",
       "    </tr>\n",
       "    <tr>\n",
       "      <th>1</th>\n",
       "      <td>22.802198</td>\n",
       "      <td>0.65</td>\n",
       "      <td>6.40</td>\n",
       "      <td>1.28</td>\n",
       "      <td>0.17</td>\n",
       "      <td>13.81</td>\n",
       "      <td>9.6</td>\n",
       "      <td>0.83</td>\n",
       "      <td>1.317886</td>\n",
       "    </tr>\n",
       "    <tr>\n",
       "      <th>2</th>\n",
       "      <td>2.725997</td>\n",
       "      <td>1.19</td>\n",
       "      <td>9.71</td>\n",
       "      <td>1.28</td>\n",
       "      <td>0.18</td>\n",
       "      <td>27.39</td>\n",
       "      <td>9.6</td>\n",
       "      <td>2.60</td>\n",
       "      <td>1.821468</td>\n",
       "    </tr>\n",
       "    <tr>\n",
       "      <th>3</th>\n",
       "      <td>-63.782051</td>\n",
       "      <td>-24.27</td>\n",
       "      <td>-26.12</td>\n",
       "      <td>14.74</td>\n",
       "      <td>0.66</td>\n",
       "      <td>0.23</td>\n",
       "      <td>-80.1</td>\n",
       "      <td>-0.13</td>\n",
       "      <td>13.565217</td>\n",
       "    </tr>\n",
       "    <tr>\n",
       "      <th>4</th>\n",
       "      <td>-64.021164</td>\n",
       "      <td>-8.10</td>\n",
       "      <td>-10.09</td>\n",
       "      <td>4.10</td>\n",
       "      <td>0.06</td>\n",
       "      <td>7.04</td>\n",
       "      <td>-10.5</td>\n",
       "      <td>-0.60</td>\n",
       "      <td>9.127841</td>\n",
       "    </tr>\n",
       "    <tr>\n",
       "      <th>...</th>\n",
       "      <td>...</td>\n",
       "      <td>...</td>\n",
       "      <td>...</td>\n",
       "      <td>...</td>\n",
       "      <td>...</td>\n",
       "      <td>...</td>\n",
       "      <td>...</td>\n",
       "      <td>...</td>\n",
       "      <td>...</td>\n",
       "    </tr>\n",
       "    <tr>\n",
       "      <th>3005</th>\n",
       "      <td>45.555556</td>\n",
       "      <td>-39.07</td>\n",
       "      <td>-60.06</td>\n",
       "      <td>13.99</td>\n",
       "      <td>0.66</td>\n",
       "      <td>1.71</td>\n",
       "      <td>-959.6</td>\n",
       "      <td>-4.65</td>\n",
       "      <td>20.526316</td>\n",
       "    </tr>\n",
       "    <tr>\n",
       "      <th>3007</th>\n",
       "      <td>46.103896</td>\n",
       "      <td>5.79</td>\n",
       "      <td>8.09</td>\n",
       "      <td>1.40</td>\n",
       "      <td>0.66</td>\n",
       "      <td>12.93</td>\n",
       "      <td>5.3</td>\n",
       "      <td>1.08</td>\n",
       "      <td>1.786543</td>\n",
       "    </tr>\n",
       "    <tr>\n",
       "      <th>3009</th>\n",
       "      <td>-54.722873</td>\n",
       "      <td>-60.62</td>\n",
       "      <td>-70.72</td>\n",
       "      <td>8.93</td>\n",
       "      <td>0.66</td>\n",
       "      <td>4.77</td>\n",
       "      <td>9.6</td>\n",
       "      <td>-2.48</td>\n",
       "      <td>2.685535</td>\n",
       "    </tr>\n",
       "    <tr>\n",
       "      <th>3010</th>\n",
       "      <td>141.049383</td>\n",
       "      <td>113.13</td>\n",
       "      <td>8.51</td>\n",
       "      <td>1.93</td>\n",
       "      <td>0.66</td>\n",
       "      <td>0.05</td>\n",
       "      <td>38.2</td>\n",
       "      <td>0.22</td>\n",
       "      <td>64.800000</td>\n",
       "    </tr>\n",
       "    <tr>\n",
       "      <th>3011</th>\n",
       "      <td>56.122449</td>\n",
       "      <td>1.37</td>\n",
       "      <td>1.65</td>\n",
       "      <td>2.78</td>\n",
       "      <td>0.66</td>\n",
       "      <td>1.87</td>\n",
       "      <td>3.0</td>\n",
       "      <td>0.03</td>\n",
       "      <td>2.096257</td>\n",
       "    </tr>\n",
       "  </tbody>\n",
       "</table>\n",
       "<p>2601 rows × 9 columns</p>\n",
       "</div>"
      ],
      "text/plain": [
       "      Percent Increase     ROA    ROE  Quick_Ratio  DebtEquity_Ratio  \\\n",
       "0            25.201794    8.32  16.78         1.31              0.36   \n",
       "1            22.802198    0.65   6.40         1.28              0.17   \n",
       "2             2.725997    1.19   9.71         1.28              0.18   \n",
       "3           -63.782051  -24.27 -26.12        14.74              0.66   \n",
       "4           -64.021164   -8.10 -10.09         4.10              0.06   \n",
       "...                ...     ...    ...          ...               ...   \n",
       "3005         45.555556  -39.07 -60.06        13.99              0.66   \n",
       "3007         46.103896    5.79   8.09         1.40              0.66   \n",
       "3009        -54.722873  -60.62 -70.72         8.93              0.66   \n",
       "3010        141.049383  113.13   8.51         1.93              0.66   \n",
       "3011         56.122449    1.37   1.65         2.78              0.66   \n",
       "\n",
       "      Book_Value  Operating_Margin  EPS2  Price_Book_Ratio  \n",
       "0           4.21               3.9  0.65          2.648456  \n",
       "1          13.81               9.6  0.83          1.317886  \n",
       "2          27.39               9.6  2.60          1.821468  \n",
       "3           0.23             -80.1 -0.13         13.565217  \n",
       "4           7.04             -10.5 -0.60          9.127841  \n",
       "...          ...               ...   ...               ...  \n",
       "3005        1.71            -959.6 -4.65         20.526316  \n",
       "3007       12.93               5.3  1.08          1.786543  \n",
       "3009        4.77               9.6 -2.48          2.685535  \n",
       "3010        0.05              38.2  0.22         64.800000  \n",
       "3011        1.87               3.0  0.03          2.096257  \n",
       "\n",
       "[2601 rows x 9 columns]"
      ]
     },
     "execution_count": 20,
     "metadata": {},
     "output_type": "execute_result"
    }
   ],
   "source": [
    "stocks_df2"
   ]
  },
  {
   "cell_type": "code",
   "execution_count": 21,
   "metadata": {},
   "outputs": [],
   "source": [
    "#skew of .40 means we don't need to make an adjustment"
   ]
  },
  {
   "cell_type": "markdown",
   "metadata": {},
   "source": [
    "## 4. Split, Scale, Cross Validate, Create Models"
   ]
  },
  {
   "cell_type": "code",
   "execution_count": 22,
   "metadata": {},
   "outputs": [
    {
     "data": {
      "text/html": [
       "<div>\n",
       "<style scoped>\n",
       "    .dataframe tbody tr th:only-of-type {\n",
       "        vertical-align: middle;\n",
       "    }\n",
       "\n",
       "    .dataframe tbody tr th {\n",
       "        vertical-align: top;\n",
       "    }\n",
       "\n",
       "    .dataframe thead th {\n",
       "        text-align: right;\n",
       "    }\n",
       "</style>\n",
       "<table border=\"1\" class=\"dataframe\">\n",
       "  <thead>\n",
       "    <tr style=\"text-align: right;\">\n",
       "      <th></th>\n",
       "      <th>ROA</th>\n",
       "      <th>ROE</th>\n",
       "      <th>Quick_Ratio</th>\n",
       "      <th>DebtEquity_Ratio</th>\n",
       "      <th>Book_Value</th>\n",
       "      <th>Operating_Margin</th>\n",
       "      <th>EPS2</th>\n",
       "      <th>Price_Book_Ratio</th>\n",
       "    </tr>\n",
       "  </thead>\n",
       "  <tbody>\n",
       "    <tr>\n",
       "      <th>0</th>\n",
       "      <td>8.32</td>\n",
       "      <td>16.78</td>\n",
       "      <td>1.31</td>\n",
       "      <td>0.36</td>\n",
       "      <td>4.21</td>\n",
       "      <td>3.9</td>\n",
       "      <td>0.65</td>\n",
       "      <td>2.648456</td>\n",
       "    </tr>\n",
       "    <tr>\n",
       "      <th>1</th>\n",
       "      <td>0.65</td>\n",
       "      <td>6.40</td>\n",
       "      <td>1.28</td>\n",
       "      <td>0.17</td>\n",
       "      <td>13.81</td>\n",
       "      <td>9.6</td>\n",
       "      <td>0.83</td>\n",
       "      <td>1.317886</td>\n",
       "    </tr>\n",
       "    <tr>\n",
       "      <th>2</th>\n",
       "      <td>1.19</td>\n",
       "      <td>9.71</td>\n",
       "      <td>1.28</td>\n",
       "      <td>0.18</td>\n",
       "      <td>27.39</td>\n",
       "      <td>9.6</td>\n",
       "      <td>2.60</td>\n",
       "      <td>1.821468</td>\n",
       "    </tr>\n",
       "    <tr>\n",
       "      <th>3</th>\n",
       "      <td>-24.27</td>\n",
       "      <td>-26.12</td>\n",
       "      <td>14.74</td>\n",
       "      <td>0.66</td>\n",
       "      <td>0.23</td>\n",
       "      <td>-80.1</td>\n",
       "      <td>-0.13</td>\n",
       "      <td>13.565217</td>\n",
       "    </tr>\n",
       "    <tr>\n",
       "      <th>4</th>\n",
       "      <td>-8.10</td>\n",
       "      <td>-10.09</td>\n",
       "      <td>4.10</td>\n",
       "      <td>0.06</td>\n",
       "      <td>7.04</td>\n",
       "      <td>-10.5</td>\n",
       "      <td>-0.60</td>\n",
       "      <td>9.127841</td>\n",
       "    </tr>\n",
       "    <tr>\n",
       "      <th>...</th>\n",
       "      <td>...</td>\n",
       "      <td>...</td>\n",
       "      <td>...</td>\n",
       "      <td>...</td>\n",
       "      <td>...</td>\n",
       "      <td>...</td>\n",
       "      <td>...</td>\n",
       "      <td>...</td>\n",
       "    </tr>\n",
       "    <tr>\n",
       "      <th>3005</th>\n",
       "      <td>-39.07</td>\n",
       "      <td>-60.06</td>\n",
       "      <td>13.99</td>\n",
       "      <td>0.66</td>\n",
       "      <td>1.71</td>\n",
       "      <td>-959.6</td>\n",
       "      <td>-4.65</td>\n",
       "      <td>20.526316</td>\n",
       "    </tr>\n",
       "    <tr>\n",
       "      <th>3007</th>\n",
       "      <td>5.79</td>\n",
       "      <td>8.09</td>\n",
       "      <td>1.40</td>\n",
       "      <td>0.66</td>\n",
       "      <td>12.93</td>\n",
       "      <td>5.3</td>\n",
       "      <td>1.08</td>\n",
       "      <td>1.786543</td>\n",
       "    </tr>\n",
       "    <tr>\n",
       "      <th>3009</th>\n",
       "      <td>-60.62</td>\n",
       "      <td>-70.72</td>\n",
       "      <td>8.93</td>\n",
       "      <td>0.66</td>\n",
       "      <td>4.77</td>\n",
       "      <td>9.6</td>\n",
       "      <td>-2.48</td>\n",
       "      <td>2.685535</td>\n",
       "    </tr>\n",
       "    <tr>\n",
       "      <th>3010</th>\n",
       "      <td>113.13</td>\n",
       "      <td>8.51</td>\n",
       "      <td>1.93</td>\n",
       "      <td>0.66</td>\n",
       "      <td>0.05</td>\n",
       "      <td>38.2</td>\n",
       "      <td>0.22</td>\n",
       "      <td>64.800000</td>\n",
       "    </tr>\n",
       "    <tr>\n",
       "      <th>3011</th>\n",
       "      <td>1.37</td>\n",
       "      <td>1.65</td>\n",
       "      <td>2.78</td>\n",
       "      <td>0.66</td>\n",
       "      <td>1.87</td>\n",
       "      <td>3.0</td>\n",
       "      <td>0.03</td>\n",
       "      <td>2.096257</td>\n",
       "    </tr>\n",
       "  </tbody>\n",
       "</table>\n",
       "<p>2601 rows × 8 columns</p>\n",
       "</div>"
      ],
      "text/plain": [
       "         ROA    ROE  Quick_Ratio  DebtEquity_Ratio  Book_Value  \\\n",
       "0       8.32  16.78         1.31              0.36        4.21   \n",
       "1       0.65   6.40         1.28              0.17       13.81   \n",
       "2       1.19   9.71         1.28              0.18       27.39   \n",
       "3     -24.27 -26.12        14.74              0.66        0.23   \n",
       "4      -8.10 -10.09         4.10              0.06        7.04   \n",
       "...      ...    ...          ...               ...         ...   \n",
       "3005  -39.07 -60.06        13.99              0.66        1.71   \n",
       "3007    5.79   8.09         1.40              0.66       12.93   \n",
       "3009  -60.62 -70.72         8.93              0.66        4.77   \n",
       "3010  113.13   8.51         1.93              0.66        0.05   \n",
       "3011    1.37   1.65         2.78              0.66        1.87   \n",
       "\n",
       "      Operating_Margin  EPS2  Price_Book_Ratio  \n",
       "0                  3.9  0.65          2.648456  \n",
       "1                  9.6  0.83          1.317886  \n",
       "2                  9.6  2.60          1.821468  \n",
       "3                -80.1 -0.13         13.565217  \n",
       "4                -10.5 -0.60          9.127841  \n",
       "...                ...   ...               ...  \n",
       "3005            -959.6 -4.65         20.526316  \n",
       "3007               5.3  1.08          1.786543  \n",
       "3009               9.6 -2.48          2.685535  \n",
       "3010              38.2  0.22         64.800000  \n",
       "3011               3.0  0.03          2.096257  \n",
       "\n",
       "[2601 rows x 8 columns]"
      ]
     },
     "execution_count": 22,
     "metadata": {},
     "output_type": "execute_result"
    }
   ],
   "source": [
    "#make x and y\n",
    "from sklearn.model_selection import train_test_split\n",
    "stocks_df3 = stocks_df2\n",
    "X = stocks_df3.drop(['Percent Increase'], axis = 1)\n",
    "y = stocks_df3['Percent Increase']\n",
    "\n",
    "X.shape\n",
    "\n",
    "X"
   ]
  },
  {
   "cell_type": "markdown",
   "metadata": {},
   "source": [
    "### Feature Engineering: try different polynomial terms and interaction terms"
   ]
  },
  {
   "cell_type": "code",
   "execution_count": 23,
   "metadata": {},
   "outputs": [],
   "source": [
    "from sklearn.preprocessing import PolynomialFeatures\n",
    "\n",
    "poly = PolynomialFeatures(2)\n",
    "X = poly.fit_transform(X)\n"
   ]
  },
  {
   "cell_type": "code",
   "execution_count": 24,
   "metadata": {},
   "outputs": [],
   "source": [
    "#split data\n",
    "\n",
    "X_train, X_test, y_train, y_test = train_test_split(X,y)"
   ]
  },
  {
   "cell_type": "code",
   "execution_count": null,
   "metadata": {
    "scrolled": true
   },
   "outputs": [],
   "source": []
  },
  {
   "cell_type": "markdown",
   "metadata": {},
   "source": [
    "### Scale Data"
   ]
  },
  {
   "cell_type": "code",
   "execution_count": 26,
   "metadata": {},
   "outputs": [],
   "source": [
    "from sklearn.preprocessing import StandardScaler\n",
    "std = StandardScaler()\n",
    "std.fit(X_train)\n",
    "X_tr = std.transform(X_train)\n",
    "X_te = std.transform(X_test)\n"
   ]
  },
  {
   "cell_type": "markdown",
   "metadata": {},
   "source": [
    "### Import Cross Validation 5 Fold Method"
   ]
  },
  {
   "cell_type": "code",
   "execution_count": 27,
   "metadata": {},
   "outputs": [],
   "source": [
    "from sklearn.model_selection import cross_val_score\n",
    "from sklearn.model_selection import KFold\n"
   ]
  },
  {
   "cell_type": "code",
   "execution_count": 28,
   "metadata": {},
   "outputs": [],
   "source": [
    "#even though we already split into train and test, we are now splitting the training set into 5 folds\n",
    "\n",
    "kf = KFold(n_splits=5, shuffle=True, random_state = 71)\n"
   ]
  },
  {
   "cell_type": "markdown",
   "metadata": {},
   "source": [
    "### Create Dataframe for Models Evaluation"
   ]
  },
  {
   "cell_type": "code",
   "execution_count": 29,
   "metadata": {},
   "outputs": [
    {
     "data": {
      "text/html": [
       "<div>\n",
       "<style scoped>\n",
       "    .dataframe tbody tr th:only-of-type {\n",
       "        vertical-align: middle;\n",
       "    }\n",
       "\n",
       "    .dataframe tbody tr th {\n",
       "        vertical-align: top;\n",
       "    }\n",
       "\n",
       "    .dataframe thead th {\n",
       "        text-align: right;\n",
       "    }\n",
       "</style>\n",
       "<table border=\"1\" class=\"dataframe\">\n",
       "  <thead>\n",
       "    <tr style=\"text-align: right;\">\n",
       "      <th></th>\n",
       "      <th>Name</th>\n",
       "      <th>CV_Train_R2</th>\n",
       "      <th>Test_R2</th>\n",
       "      <th>CV_Train_RMSE</th>\n",
       "      <th>RMSE_test</th>\n",
       "    </tr>\n",
       "  </thead>\n",
       "  <tbody>\n",
       "  </tbody>\n",
       "</table>\n",
       "</div>"
      ],
      "text/plain": [
       "Empty DataFrame\n",
       "Columns: [Name, CV_Train_R2, Test_R2, CV_Train_RMSE, RMSE_test]\n",
       "Index: []"
      ]
     },
     "execution_count": 29,
     "metadata": {},
     "output_type": "execute_result"
    }
   ],
   "source": [
    "model_df = pd.DataFrame(columns = ['Name', 'CV_Train_R2', 'Test_R2', 'CV_Train_RMSE', 'RMSE_test'])\n",
    "model_df\n",
    "\n"
   ]
  },
  {
   "cell_type": "markdown",
   "metadata": {},
   "source": [
    "### Base Linear Regression Model"
   ]
  },
  {
   "cell_type": "code",
   "execution_count": 30,
   "metadata": {},
   "outputs": [],
   "source": [
    "\n",
    "from sklearn.linear_model import LinearRegression\n",
    "from sklearn.metrics import mean_squared_error\n",
    "model = LinearRegression()\n",
    "model.fit(X_tr,y_train)\n",
    "\n",
    "y_pred = model.predict(X_te)\n",
    "def rmse(y, y_pred):\n",
    "    return np.sqrt(mean_squared_error(y, y_pred))\n",
    "\n",
    "\n"
   ]
  },
  {
   "cell_type": "markdown",
   "metadata": {},
   "source": [
    "### Lasso Model"
   ]
  },
  {
   "cell_type": "code",
   "execution_count": 31,
   "metadata": {},
   "outputs": [
    {
     "data": {
      "text/plain": [
       "[1, 2, 3, 4, 5, 6, 7, 8, 9]"
      ]
     },
     "execution_count": 31,
     "metadata": {},
     "output_type": "execute_result"
    }
   ],
   "source": [
    "list(np.arange(1,10))"
   ]
  },
  {
   "cell_type": "code",
   "execution_count": 32,
   "metadata": {},
   "outputs": [
    {
     "name": "stdout",
     "output_type": "stream",
     "text": [
      "0.7999999999999999\n"
     ]
    },
    {
     "data": {
      "text/html": [
       "<div>\n",
       "<style scoped>\n",
       "    .dataframe tbody tr th:only-of-type {\n",
       "        vertical-align: middle;\n",
       "    }\n",
       "\n",
       "    .dataframe tbody tr th {\n",
       "        vertical-align: top;\n",
       "    }\n",
       "\n",
       "    .dataframe thead th {\n",
       "        text-align: right;\n",
       "    }\n",
       "</style>\n",
       "<table border=\"1\" class=\"dataframe\">\n",
       "  <thead>\n",
       "    <tr style=\"text-align: right;\">\n",
       "      <th></th>\n",
       "      <th>Name</th>\n",
       "      <th>CV_Train_R2</th>\n",
       "      <th>Test_R2</th>\n",
       "      <th>CV_Train_RMSE</th>\n",
       "      <th>RMSE_test</th>\n",
       "    </tr>\n",
       "  </thead>\n",
       "  <tbody>\n",
       "    <tr>\n",
       "      <th>0</th>\n",
       "      <td>Lasso</td>\n",
       "      <td>0.009839</td>\n",
       "      <td>0.00424</td>\n",
       "      <td>41.739673</td>\n",
       "      <td>41.457243</td>\n",
       "    </tr>\n",
       "  </tbody>\n",
       "</table>\n",
       "</div>"
      ],
      "text/plain": [
       "    Name  CV_Train_R2  Test_R2  CV_Train_RMSE  RMSE_test\n",
       "0  Lasso     0.009839  0.00424      41.739673  41.457243"
      ]
     },
     "metadata": {},
     "output_type": "display_data"
    }
   ],
   "source": [
    "\n",
    "from sklearn.linear_model import Lasso, LassoCV, Ridge, RidgeCV\n",
    "from sklearn.metrics import r2_score\n",
    "\n",
    "#first find optimal alpha\n",
    "#alphalist = [0, .001, .01, .01, .1, 1, 10, 100, 1000, 10000]\n",
    "alphalist = np.arange(.5,2,.1)\n",
    "lasso_cv = LassoCV(alphas = alphalist, cv=5)\n",
    "lasso_cv.fit(X_tr, y_train)\n",
    "\n",
    "best_alpha = lasso_cv.alpha_\n",
    "\n",
    "print(best_alpha)\n",
    "\n",
    "#next fit Lasso with optimal alpha to data\n",
    "lasso_model = Lasso(alpha = best_alpha)\n",
    "lasso_model.fit(X_tr, y_train)\n",
    "y_pred = lasso_model.predict(X_te)\n",
    "\n",
    "#put results in aggregate model table\n",
    "model_df = model_df.append({'Name': 'Lasso', 'CV_Train_R2':np.mean(cross_val_score(lasso_model, X_tr, y_train, cv=kf, scoring='r2')),\n",
    "                           'Test_R2':lasso_model.score(X_te, y_test), \n",
    "                            'CV_Train_RMSE': np.mean(-1*cross_val_score(lasso_model, X_tr, y_train, cv = kf, scoring = 'neg_root_mean_squared_error')),\n",
    "                           'RMSE_test': rmse(y_pred, y_test)}, ignore_index = True)\n",
    "\n",
    "display(model_df)\n"
   ]
  },
  {
   "cell_type": "markdown",
   "metadata": {},
   "source": [
    "### Ridge Regression"
   ]
  },
  {
   "cell_type": "code",
   "execution_count": 33,
   "metadata": {},
   "outputs": [],
   "source": [
    "from sklearn.linear_model import Ridge\n"
   ]
  },
  {
   "cell_type": "code",
   "execution_count": 34,
   "metadata": {},
   "outputs": [
    {
     "name": "stdout",
     "output_type": "stream",
     "text": [
      "best alpha:  1039\n"
     ]
    },
    {
     "data": {
      "text/html": [
       "<div>\n",
       "<style scoped>\n",
       "    .dataframe tbody tr th:only-of-type {\n",
       "        vertical-align: middle;\n",
       "    }\n",
       "\n",
       "    .dataframe tbody tr th {\n",
       "        vertical-align: top;\n",
       "    }\n",
       "\n",
       "    .dataframe thead th {\n",
       "        text-align: right;\n",
       "    }\n",
       "</style>\n",
       "<table border=\"1\" class=\"dataframe\">\n",
       "  <thead>\n",
       "    <tr style=\"text-align: right;\">\n",
       "      <th></th>\n",
       "      <th>Name</th>\n",
       "      <th>CV_Train_R2</th>\n",
       "      <th>Test_R2</th>\n",
       "      <th>CV_Train_RMSE</th>\n",
       "      <th>RMSE_test</th>\n",
       "    </tr>\n",
       "  </thead>\n",
       "  <tbody>\n",
       "    <tr>\n",
       "      <th>0</th>\n",
       "      <td>Lasso</td>\n",
       "      <td>0.009839</td>\n",
       "      <td>0.004240</td>\n",
       "      <td>41.739673</td>\n",
       "      <td>41.457243</td>\n",
       "    </tr>\n",
       "    <tr>\n",
       "      <th>1</th>\n",
       "      <td>Ridge</td>\n",
       "      <td>0.003875</td>\n",
       "      <td>0.003982</td>\n",
       "      <td>41.864311</td>\n",
       "      <td>41.462611</td>\n",
       "    </tr>\n",
       "  </tbody>\n",
       "</table>\n",
       "</div>"
      ],
      "text/plain": [
       "    Name  CV_Train_R2   Test_R2  CV_Train_RMSE  RMSE_test\n",
       "0  Lasso     0.009839  0.004240      41.739673  41.457243\n",
       "1  Ridge     0.003875  0.003982      41.864311  41.462611"
      ]
     },
     "metadata": {},
     "output_type": "display_data"
    }
   ],
   "source": [
    "#first find best alpha\n",
    "#alphalist = [0, .001, .01, .01, .1, 1, 10, 100, 1000, 10000]\n",
    "alphalist = np.arange(1000,1040,1)\n",
    "ridge_cv = RidgeCV(alphas = alphalist, cv=5)\n",
    "ridge_cv.fit(X_tr, y_train)\n",
    "\n",
    "best_alpha = ridge_cv.alpha_\n",
    "\n",
    "print('best alpha: ', best_alpha)\n",
    "\n",
    "ridge_model = Ridge(alpha = best_alpha)\n",
    "ridge_model.fit(X_tr, y_train)\n",
    "y_pred = ridge_model.predict(X_te)\n",
    "\n",
    "model_df = model_df.append({'Name': 'Ridge', 'CV_Train_R2':np.mean(cross_val_score(ridge_model, X_tr, y_train, cv=kf, scoring='r2')),\n",
    "                           'Test_R2':ridge_model.score(X_te, y_test), \n",
    "                            'CV_Train_RMSE': np.mean(-1*cross_val_score(ridge_model, X_tr, y_train, cv = kf, scoring = 'neg_root_mean_squared_error')),\n",
    "                           'RMSE_test': rmse(y_pred, y_test)}, ignore_index = True)\n",
    "\n",
    "display(model_df)\n"
   ]
  },
  {
   "cell_type": "markdown",
   "metadata": {},
   "source": [
    "### Elastic Net"
   ]
  },
  {
   "cell_type": "code",
   "execution_count": 35,
   "metadata": {},
   "outputs": [],
   "source": [
    "from sklearn.linear_model import ElasticNet, ElasticNetCV\n"
   ]
  },
  {
   "cell_type": "code",
   "execution_count": 36,
   "metadata": {},
   "outputs": [
    {
     "name": "stdout",
     "output_type": "stream",
     "text": [
      "best alpha:  0.9\n"
     ]
    }
   ],
   "source": [
    "#find best alpha\n",
    "#alphalist = [0, .001, .01, .01, .1, 1, 10, 100, 1000, 10000]\n",
    "alphalist = np.arange(.1,1,.1)\n",
    "elastic_cv = ElasticNetCV(alphas = alphalist, cv=5)\n",
    "elastic_cv.fit(X_tr, y_train)\n",
    "\n",
    "best_alpha = elastic_cv.alpha_\n",
    "\n",
    "print('best alpha: ', best_alpha)\n"
   ]
  },
  {
   "cell_type": "code",
   "execution_count": 37,
   "metadata": {},
   "outputs": [
    {
     "data": {
      "text/html": [
       "<div>\n",
       "<style scoped>\n",
       "    .dataframe tbody tr th:only-of-type {\n",
       "        vertical-align: middle;\n",
       "    }\n",
       "\n",
       "    .dataframe tbody tr th {\n",
       "        vertical-align: top;\n",
       "    }\n",
       "\n",
       "    .dataframe thead th {\n",
       "        text-align: right;\n",
       "    }\n",
       "</style>\n",
       "<table border=\"1\" class=\"dataframe\">\n",
       "  <thead>\n",
       "    <tr style=\"text-align: right;\">\n",
       "      <th></th>\n",
       "      <th>Name</th>\n",
       "      <th>CV_Train_R2</th>\n",
       "      <th>Test_R2</th>\n",
       "      <th>CV_Train_RMSE</th>\n",
       "      <th>RMSE_test</th>\n",
       "    </tr>\n",
       "  </thead>\n",
       "  <tbody>\n",
       "    <tr>\n",
       "      <th>0</th>\n",
       "      <td>Lasso</td>\n",
       "      <td>0.009839</td>\n",
       "      <td>0.004240</td>\n",
       "      <td>41.739673</td>\n",
       "      <td>41.457243</td>\n",
       "    </tr>\n",
       "    <tr>\n",
       "      <th>1</th>\n",
       "      <td>Ridge</td>\n",
       "      <td>0.003875</td>\n",
       "      <td>0.003982</td>\n",
       "      <td>41.864311</td>\n",
       "      <td>41.462611</td>\n",
       "    </tr>\n",
       "    <tr>\n",
       "      <th>2</th>\n",
       "      <td>ElasticNet</td>\n",
       "      <td>0.012858</td>\n",
       "      <td>0.005718</td>\n",
       "      <td>41.674570</td>\n",
       "      <td>41.426468</td>\n",
       "    </tr>\n",
       "  </tbody>\n",
       "</table>\n",
       "</div>"
      ],
      "text/plain": [
       "         Name  CV_Train_R2   Test_R2  CV_Train_RMSE  RMSE_test\n",
       "0       Lasso     0.009839  0.004240      41.739673  41.457243\n",
       "1       Ridge     0.003875  0.003982      41.864311  41.462611\n",
       "2  ElasticNet     0.012858  0.005718      41.674570  41.426468"
      ]
     },
     "metadata": {},
     "output_type": "display_data"
    }
   ],
   "source": [
    "elastic_model = ElasticNet(alpha = best_alpha)\n",
    "elastic_model.fit(X_tr, y_train)\n",
    "y_pred = elastic_model.predict(X_te)\n",
    "\n",
    "model_df = model_df.append({'Name': 'ElasticNet', 'CV_Train_R2':np.mean(cross_val_score(elastic_model, X_tr, y_train, cv=kf, scoring='r2')),\n",
    "                           'Test_R2':elastic_model.score(X_te, y_test), \n",
    "                            'CV_Train_RMSE': np.mean(-1*cross_val_score(elastic_model, X_tr, y_train, cv = kf, scoring = 'neg_root_mean_squared_error')),\n",
    "                           'RMSE_test': rmse(y_pred, y_test)}, ignore_index = True)\n",
    "\n",
    "display(model_df)"
   ]
  },
  {
   "cell_type": "markdown",
   "metadata": {},
   "source": [
    "### Random Forest Regression"
   ]
  },
  {
   "cell_type": "code",
   "execution_count": 38,
   "metadata": {},
   "outputs": [],
   "source": [
    "from sklearn.ensemble import RandomForestRegressor\n",
    "from sklearn.model_selection import GridSearchCV\n"
   ]
  },
  {
   "cell_type": "code",
   "execution_count": 39,
   "metadata": {},
   "outputs": [
    {
     "name": "stdout",
     "output_type": "stream",
     "text": [
      "{'max_depth': 10, 'min_samples_leaf': 6, 'n_estimators': 500}\n",
      "CPU times: user 42min 15s, sys: 10.4 s, total: 42min 25s\n",
      "Wall time: 43min 8s\n"
     ]
    }
   ],
   "source": [
    "%%time\n",
    "\n",
    "rfr = RandomForestRegressor()\n",
    "\n",
    "\n",
    "param_grid = {\n",
    "    'max_depth': [10],\n",
    "    'min_samples_leaf':[6,7,8],\n",
    "    'n_estimators': [500, 600]\n",
    "}\n",
    "\n",
    "grid_search = GridSearchCV(estimator=rfr,\n",
    "             param_grid=param_grid, cv = 5)\n",
    "\n",
    "grid_search.fit(X_tr, y_train)\n",
    "best_params = grid_search.best_params_\n",
    "print(best_params)\n",
    "\n",
    "# rfr = rfr.fit(X_tr, y_train)\n",
    "# print('score_train:', rfr.score(X_tr, y_train))\n",
    "# print('score_test: ', rfr.score(X_te, y_test))\n",
    "# y_pred = rfr.predict(X_te)\n",
    "# print('RMSE: ', rmse(y_test,y_pred))\n"
   ]
  },
  {
   "cell_type": "code",
   "execution_count": 40,
   "metadata": {},
   "outputs": [
    {
     "name": "stdout",
     "output_type": "stream",
     "text": [
      "500\n"
     ]
    },
    {
     "data": {
      "text/html": [
       "<div>\n",
       "<style scoped>\n",
       "    .dataframe tbody tr th:only-of-type {\n",
       "        vertical-align: middle;\n",
       "    }\n",
       "\n",
       "    .dataframe tbody tr th {\n",
       "        vertical-align: top;\n",
       "    }\n",
       "\n",
       "    .dataframe thead th {\n",
       "        text-align: right;\n",
       "    }\n",
       "</style>\n",
       "<table border=\"1\" class=\"dataframe\">\n",
       "  <thead>\n",
       "    <tr style=\"text-align: right;\">\n",
       "      <th></th>\n",
       "      <th>Name</th>\n",
       "      <th>CV_Train_R2</th>\n",
       "      <th>Test_R2</th>\n",
       "      <th>CV_Train_RMSE</th>\n",
       "      <th>RMSE_test</th>\n",
       "    </tr>\n",
       "  </thead>\n",
       "  <tbody>\n",
       "    <tr>\n",
       "      <th>0</th>\n",
       "      <td>Lasso</td>\n",
       "      <td>0.009839</td>\n",
       "      <td>0.004240</td>\n",
       "      <td>41.739673</td>\n",
       "      <td>41.457243</td>\n",
       "    </tr>\n",
       "    <tr>\n",
       "      <th>1</th>\n",
       "      <td>Ridge</td>\n",
       "      <td>0.003875</td>\n",
       "      <td>0.003982</td>\n",
       "      <td>41.864311</td>\n",
       "      <td>41.462611</td>\n",
       "    </tr>\n",
       "    <tr>\n",
       "      <th>2</th>\n",
       "      <td>ElasticNet</td>\n",
       "      <td>0.012858</td>\n",
       "      <td>0.005718</td>\n",
       "      <td>41.674570</td>\n",
       "      <td>41.426468</td>\n",
       "    </tr>\n",
       "    <tr>\n",
       "      <th>3</th>\n",
       "      <td>Random Forest</td>\n",
       "      <td>0.039320</td>\n",
       "      <td>0.045138</td>\n",
       "      <td>41.086251</td>\n",
       "      <td>40.596934</td>\n",
       "    </tr>\n",
       "  </tbody>\n",
       "</table>\n",
       "</div>"
      ],
      "text/plain": [
       "            Name  CV_Train_R2   Test_R2  CV_Train_RMSE  RMSE_test\n",
       "0          Lasso     0.009839  0.004240      41.739673  41.457243\n",
       "1          Ridge     0.003875  0.003982      41.864311  41.462611\n",
       "2     ElasticNet     0.012858  0.005718      41.674570  41.426468\n",
       "3  Random Forest     0.039320  0.045138      41.086251  40.596934"
      ]
     },
     "metadata": {},
     "output_type": "display_data"
    }
   ],
   "source": [
    "print(best_params['n_estimators'])\n",
    "rf = RandomForestRegressor(n_estimators = best_params['n_estimators'], \n",
    "                           min_samples_leaf = best_params['min_samples_leaf'],\n",
    "                           max_depth = best_params['max_depth'])\n",
    "rf.fit(X_tr, y_train)\n",
    "y_pred = rf.predict(X_te)\n",
    "\n",
    "model_df = model_df.append({'Name': 'Random Forest', 'CV_Train_R2':np.mean(cross_val_score(rf, X_tr, y_train, cv=kf, scoring='r2')),\n",
    "                           'Test_R2':rf.score(X_te, y_test), \n",
    "                            'CV_Train_RMSE': np.mean(-1*cross_val_score(rf, X_tr, y_train, cv = kf, scoring = 'neg_root_mean_squared_error')),\n",
    "                           'RMSE_test': rmse(y_pred, y_test)}, ignore_index = True)\n",
    "\n",
    "display(model_df)\n"
   ]
  },
  {
   "cell_type": "markdown",
   "metadata": {},
   "source": [
    "### Gradient Boosted Classifier"
   ]
  },
  {
   "cell_type": "code",
   "execution_count": 41,
   "metadata": {},
   "outputs": [
    {
     "name": "stdout",
     "output_type": "stream",
     "text": [
      "{'learning_rate': 0.01, 'max_depth': 5, 'n_estimators': 100}\n",
      "CPU times: user 3min 24s, sys: 538 ms, total: 3min 24s\n",
      "Wall time: 3min 26s\n"
     ]
    }
   ],
   "source": [
    "%%time\n",
    "from sklearn.ensemble import GradientBoostingRegressor\n",
    "\n",
    "gbr = GradientBoostingRegressor()\n",
    "\n",
    "param_grid = {\n",
    "    'learning_rate':[.001, .01, .1],\n",
    "    'max_depth': [2,3,5,10],\n",
    "    'n_estimators': [100]\n",
    "}\n",
    "\n",
    "grid_search = GridSearchCV(estimator=gbr,\n",
    "             param_grid=param_grid, cv = 5)\n",
    "\n",
    "grid_search.fit(X_tr, y_train)\n",
    "best_params = grid_search.best_params_\n",
    "print(best_params)"
   ]
  },
  {
   "cell_type": "code",
   "execution_count": 42,
   "metadata": {},
   "outputs": [
    {
     "data": {
      "text/html": [
       "<div>\n",
       "<style scoped>\n",
       "    .dataframe tbody tr th:only-of-type {\n",
       "        vertical-align: middle;\n",
       "    }\n",
       "\n",
       "    .dataframe tbody tr th {\n",
       "        vertical-align: top;\n",
       "    }\n",
       "\n",
       "    .dataframe thead th {\n",
       "        text-align: right;\n",
       "    }\n",
       "</style>\n",
       "<table border=\"1\" class=\"dataframe\">\n",
       "  <thead>\n",
       "    <tr style=\"text-align: right;\">\n",
       "      <th></th>\n",
       "      <th>Name</th>\n",
       "      <th>CV_Train_R2</th>\n",
       "      <th>Test_R2</th>\n",
       "      <th>CV_Train_RMSE</th>\n",
       "      <th>RMSE_test</th>\n",
       "    </tr>\n",
       "  </thead>\n",
       "  <tbody>\n",
       "    <tr>\n",
       "      <th>0</th>\n",
       "      <td>Lasso</td>\n",
       "      <td>0.009839</td>\n",
       "      <td>0.004240</td>\n",
       "      <td>41.739673</td>\n",
       "      <td>41.457243</td>\n",
       "    </tr>\n",
       "    <tr>\n",
       "      <th>1</th>\n",
       "      <td>Ridge</td>\n",
       "      <td>0.003875</td>\n",
       "      <td>0.003982</td>\n",
       "      <td>41.864311</td>\n",
       "      <td>41.462611</td>\n",
       "    </tr>\n",
       "    <tr>\n",
       "      <th>2</th>\n",
       "      <td>ElasticNet</td>\n",
       "      <td>0.012858</td>\n",
       "      <td>0.005718</td>\n",
       "      <td>41.674570</td>\n",
       "      <td>41.426468</td>\n",
       "    </tr>\n",
       "    <tr>\n",
       "      <th>3</th>\n",
       "      <td>Random Forest</td>\n",
       "      <td>0.039320</td>\n",
       "      <td>0.045138</td>\n",
       "      <td>41.086251</td>\n",
       "      <td>40.596934</td>\n",
       "    </tr>\n",
       "    <tr>\n",
       "      <th>4</th>\n",
       "      <td>Gradient Boosted</td>\n",
       "      <td>0.024126</td>\n",
       "      <td>0.050699</td>\n",
       "      <td>41.454266</td>\n",
       "      <td>40.478549</td>\n",
       "    </tr>\n",
       "  </tbody>\n",
       "</table>\n",
       "</div>"
      ],
      "text/plain": [
       "               Name  CV_Train_R2   Test_R2  CV_Train_RMSE  RMSE_test\n",
       "0             Lasso     0.009839  0.004240      41.739673  41.457243\n",
       "1             Ridge     0.003875  0.003982      41.864311  41.462611\n",
       "2        ElasticNet     0.012858  0.005718      41.674570  41.426468\n",
       "3     Random Forest     0.039320  0.045138      41.086251  40.596934\n",
       "4  Gradient Boosted     0.024126  0.050699      41.454266  40.478549"
      ]
     },
     "metadata": {},
     "output_type": "display_data"
    }
   ],
   "source": [
    "gb_model = GradientBoostingRegressor(n_estimators = best_params['n_estimators'], \n",
    "                           learning_rate = best_params['learning_rate'],\n",
    "                           max_depth = best_params['max_depth'])\n",
    "gb_model.fit(X_tr, y_train)\n",
    "y_pred = gb_model.predict(X_te)\n",
    "\n",
    "model_df = model_df.append({'Name': 'Gradient Boosted', 'CV_Train_R2':np.mean(cross_val_score(gb_model, X_tr, y_train, cv=kf, scoring='r2')),\n",
    "                           'Test_R2':gb_model.score(X_te, y_test), \n",
    "                            'CV_Train_RMSE': np.mean(-1*cross_val_score(gb_model, X_tr, y_train, cv = kf, scoring = 'neg_root_mean_squared_error')),\n",
    "                           'RMSE_test': rmse(y_pred, y_test)}, ignore_index = True)\n",
    "\n",
    "display(model_df)\n"
   ]
  },
  {
   "cell_type": "code",
   "execution_count": 43,
   "metadata": {},
   "outputs": [],
   "source": [
    "model_df.to_pickle('model_df.pkl')"
   ]
  },
  {
   "cell_type": "markdown",
   "metadata": {},
   "source": [
    "# 5. Comparing Models"
   ]
  },
  {
   "cell_type": "code",
   "execution_count": 99,
   "metadata": {},
   "outputs": [
    {
     "data": {
      "text/html": [
       "<div>\n",
       "<style scoped>\n",
       "    .dataframe tbody tr th:only-of-type {\n",
       "        vertical-align: middle;\n",
       "    }\n",
       "\n",
       "    .dataframe tbody tr th {\n",
       "        vertical-align: top;\n",
       "    }\n",
       "\n",
       "    .dataframe thead th {\n",
       "        text-align: right;\n",
       "    }\n",
       "</style>\n",
       "<table border=\"1\" class=\"dataframe\">\n",
       "  <thead>\n",
       "    <tr style=\"text-align: right;\">\n",
       "      <th></th>\n",
       "      <th>Name</th>\n",
       "      <th>CV_Train_R2</th>\n",
       "      <th>Test_R2</th>\n",
       "      <th>CV_Train_RMSE</th>\n",
       "      <th>RMSE_test</th>\n",
       "    </tr>\n",
       "  </thead>\n",
       "  <tbody>\n",
       "    <tr>\n",
       "      <th>1</th>\n",
       "      <td>Ridge</td>\n",
       "      <td>0.003875</td>\n",
       "      <td>0.003982</td>\n",
       "      <td>41.864311</td>\n",
       "      <td>41.462611</td>\n",
       "    </tr>\n",
       "    <tr>\n",
       "      <th>0</th>\n",
       "      <td>Lasso</td>\n",
       "      <td>0.009839</td>\n",
       "      <td>0.004240</td>\n",
       "      <td>41.739673</td>\n",
       "      <td>41.457243</td>\n",
       "    </tr>\n",
       "    <tr>\n",
       "      <th>2</th>\n",
       "      <td>ElasticNet</td>\n",
       "      <td>0.012858</td>\n",
       "      <td>0.005718</td>\n",
       "      <td>41.674570</td>\n",
       "      <td>41.426468</td>\n",
       "    </tr>\n",
       "    <tr>\n",
       "      <th>4</th>\n",
       "      <td>Gradient Boosted</td>\n",
       "      <td>0.024126</td>\n",
       "      <td>0.050699</td>\n",
       "      <td>41.454266</td>\n",
       "      <td>40.478549</td>\n",
       "    </tr>\n",
       "    <tr>\n",
       "      <th>3</th>\n",
       "      <td>Random Forest</td>\n",
       "      <td>0.039320</td>\n",
       "      <td>0.045138</td>\n",
       "      <td>41.086251</td>\n",
       "      <td>40.596934</td>\n",
       "    </tr>\n",
       "  </tbody>\n",
       "</table>\n",
       "</div>"
      ],
      "text/plain": [
       "               Name  CV_Train_R2   Test_R2  CV_Train_RMSE  RMSE_test\n",
       "1             Ridge     0.003875  0.003982      41.864311  41.462611\n",
       "0             Lasso     0.009839  0.004240      41.739673  41.457243\n",
       "2        ElasticNet     0.012858  0.005718      41.674570  41.426468\n",
       "4  Gradient Boosted     0.024126  0.050699      41.454266  40.478549\n",
       "3     Random Forest     0.039320  0.045138      41.086251  40.596934"
      ]
     },
     "execution_count": 99,
     "metadata": {},
     "output_type": "execute_result"
    },
    {
     "data": {
      "image/png": "[encoded data removed]",
      "text/plain": [
       "<Figure size 432x288 with 1 Axes>"
      ]
     },
     "metadata": {
      "needs_background": "light"
     },
     "output_type": "display_data"
    }
   ],
   "source": [
    "c = ['b']*5\n",
    "\n",
    "model_df = model_df.sort_values(by = 'CV_Train_R2')\n",
    "\n",
    "plt.barh(model_df.Name, model_df.CV_Train_R2, color = c)\n",
    "\n",
    "plt.xticks(rotation = 45)\n",
    "plt.xlabel('R^2 (Model Fit)')\n",
    "plt.title('Model Performance')\n",
    "\n",
    "model_df"
   ]
  },
  {
   "cell_type": "code",
   "execution_count": 105,
   "metadata": {},
   "outputs": [
    {
     "data": {
      "text/plain": [
       "(35.0, 43.0)"
      ]
     },
     "execution_count": 105,
     "metadata": {},
     "output_type": "execute_result"
    },
    {
     "data": {
      "image/png": "[encoded data removed]",
      "text/plain": [
       "<Figure size 432x288 with 1 Axes>"
      ]
     },
     "metadata": {
      "needs_background": "light"
     },
     "output_type": "display_data"
    }
   ],
   "source": [
    "c = ['orange']*5\n",
    "model_df = model_df.sort_values(by = 'CV_Train_RMSE', ascending = False)\n",
    "plt.barh(model_df.Name, model_df.CV_Train_RMSE, color = c)\n",
    "plt.xticks(rotation = 45)\n",
    "plt.xlabel('RMSE')\n",
    "plt.title('Average Error in Percentage Points')\n",
    "plt.xlim((35, 43))"
   ]
  },
  {
   "cell_type": "code",
   "execution_count": 64,
   "metadata": {},
   "outputs": [
    {
     "data": {
      "text/plain": [
       "ROA                 0.086140\n",
       "ROE                 0.018557\n",
       "Quick_Ratio        -0.040090\n",
       "DebtEquity_Ratio   -0.038521\n",
       "Book_Value         -0.027174\n",
       "Operating_Margin    0.077165\n",
       "EPS2                0.057679\n",
       "Price_Book_Ratio   -0.008738\n",
       "dtype: float64"
      ]
     },
     "execution_count": 64,
     "metadata": {},
     "output_type": "execute_result"
    }
   ],
   "source": [
    "stocks_df2.drop(columns=['Percent Increase']).corrwith(stocks_df2['Percent Increase'])"
   ]
  },
  {
   "cell_type": "code",
   "execution_count": 90,
   "metadata": {},
   "outputs": [
    {
     "data": {
      "text/plain": [
       "Text(0.5, 1.0, \"Correlation with Stock's % Increase\")"
      ]
     },
     "execution_count": 90,
     "metadata": {},
     "output_type": "execute_result"
    },
    {
     "data": {
      "image/png": "[encoded data removed]",
      "text/plain": [
       "<Figure size 432x288 with 2 Axes>"
      ]
     },
     "metadata": {
      "needs_background": "light"
     },
     "output_type": "display_data"
    }
   ],
   "source": [
    "corr_matrix = stocks_df2.corr()\n",
    "\n",
    "corr_series = corr_matrix['Percent Increase'].sort_values(ascending = False).to_frame()\n",
    "sns.heatmap(corr_series.tail(8).T).set_title(\"Correlation with Stock's % Increase\")\n",
    "\n",
    "# print(corr_series)\n",
    "# print(corr_matrix[\"Percent Increase\"].sort_values(ascending=False))\n",
    "# plt.bar(corr_matrix['Percent Increase'].index, corr_matrix['Percent Increase'])\n",
    "# plt.xticks(rotation = 70)"
   ]
  },
  {
   "cell_type": "code",
   "execution_count": 113,
   "metadata": {},
   "outputs": [
    {
     "data": {
      "text/plain": [
       "Text(0.5, 1.0, 'How ROA Relates to Stock % Increase')"
      ]
     },
     "execution_count": 113,
     "metadata": {},
     "output_type": "execute_result"
    },
    {
     "data": {
      "image/png": "[encoded data removed]",
      "text/plain": [
       "<Figure size 432x288 with 1 Axes>"
      ]
     },
     "metadata": {
      "needs_background": "light"
     },
     "output_type": "display_data"
    }
   ],
   "source": [
    "plt.scatter(stocks_df2['Percent Increase'], stocks_df2['ROA'])\n",
    "plt.xlabel('Percent Increase')\n",
    "plt.ylabel('Return on Assets')\n",
    "plt.ylim((-200,100))\n",
    "plt.title('How ROA Relates to Stock % Increase')"
   ]
  },
  {
   "cell_type": "code",
   "execution_count": 109,
   "metadata": {},
   "outputs": [
    {
     "data": {
      "text/plain": [
       "count    2601.000000\n",
       "mean       -1.796674\n",
       "std        33.850436\n",
       "min      -976.260000\n",
       "25%         0.100000\n",
       "50%         2.460000\n",
       "75%         6.570000\n",
       "max       113.130000\n",
       "Name: ROA, dtype: float64"
      ]
     },
     "execution_count": 109,
     "metadata": {},
     "output_type": "execute_result"
    }
   ],
   "source": [
    "stocks_df2.ROA.describe()"
   ]
  },
  {
   "cell_type": "code",
   "execution_count": 148,
   "metadata": {},
   "outputs": [],
   "source": [
    "X_array = stocks_df2.drop('Percent Increase', axis = 1)\n",
    "names = poly.get_feature_names(X_array.columns)\n",
    "\n",
    "feature_importances = sorted(zip(map(lambda x: round(x, 4), rf.feature_importances_), names), \n",
    "             reverse=True)\n",
    "\n",
    "fi_df = pd.DataFrame(columns = ['Importance', 'Variable'])\n",
    "for i in feature_importances:\n",
    "    fi_df = fi_df.append({'Importance': i[0], 'Variable': i[1]}, ignore_index = True)"
   ]
  },
  {
   "cell_type": "code",
   "execution_count": 152,
   "metadata": {},
   "outputs": [
    {
     "data": {
      "text/plain": [
       "Text(0.5, 1.0, 'Feature Importances of Top Variables')"
      ]
     },
     "execution_count": 152,
     "metadata": {},
     "output_type": "execute_result"
    },
    {
     "data": {
      "image/png": "[encoded data removed]",
      "text/plain": [
       "<Figure size 432x288 with 1 Axes>"
      ]
     },
     "metadata": {
      "needs_background": "light"
     },
     "output_type": "display_data"
    }
   ],
   "source": [
    "plt.barh(fi_df['Variable'].head(5), fi_df['Importance'].head(5))\n",
    "plt.gca().invert_yaxis()\n",
    "plt.title('Feature Importances of Top Variables')"
   ]
  },
  {
   "cell_type": "code",
   "execution_count": null,
   "metadata": {},
   "outputs": [],
   "source": []
  }
 ],
 "metadata": {
  "kernelspec": {
   "display_name": "Python 3",
   "language": "python",
   "name": "python3"
  },
  "language_info": {
   "codemirror_mode": {
    "name": "ipython",
    "version": 3
   },
   "file_extension": ".py",
   "mimetype": "text/x-python",
   "name": "python",
   "nbconvert_exporter": "python",
   "pygments_lexer": "ipython3",
   "version": "3.8.3"
  }
 },
 "nbformat": 4,
 "nbformat_minor": 4
}
